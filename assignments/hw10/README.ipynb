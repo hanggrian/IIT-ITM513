{
 "cells": [
  {
   "cell_type": "markdown",
   "id": "b657c8f0-51e5-4226-b7d0-f50e9c20e362",
   "metadata": {},
   "source": [
    "# [Homework 10](https://github.com/hendraanggrian/IIT-ITM513/blob/assets/assignments/hw10.pdf): Data visualization using Seaborn\n",
    "\n",
    "> Seaborn is a Python data visualization library based on matplotlib. It provides a high-level interface for drawing attractive and informative statistical graphics. The questions below enforce you to explore the power of Python seaborn library package. It is quite challenging to memorize all function parameters when applying seaborn package in your program. There are various approaches to generate data visualization. Use existing documents, example programs, or other resources that can be located on the cloud to assist you in understanding on how to implement seaborn.\n",
    ">\n",
    "> **Note** – This assignment is quite challenging and interesting as well. The activity requires that you do some trial and error method to achieve your goals. The *Seaborn* module has various gadgets you can use with proper syntax to get the appropriate outcome. Be persistent! It is not advisable to try to complete this assignment in the eleventh hour. Start early."
   ]
  },
  {
   "cell_type": "markdown",
   "id": "91b3a610-00a7-4708-8fee-5c35285b5cc8",
   "metadata": {},
   "source": [
    "## Problem 1\n",
    "\n",
    "> Using dataset *workerstips.csv*, create a [scatterplot](https://seaborn.pydata.org/generated/seaborn.scatterplot.html) with *total_bill* as the x-axis and the *tips* as the y-axis\n",
    "> \n",
    "> ![](https://github.com/hendraanggrian/IIT-ITM513/raw/assets/assignments/hw10_1.png)\n",
    "\n",
    "-\n",
    "\n",
    "### Screenshots\n",
    "\n",
    "1. "
   ]
  },
  {
   "cell_type": "code",
   "execution_count": null,
   "id": "76fe9b0c-cf1d-4813-bfd2-c8521193e448",
   "metadata": {},
   "outputs": [],
   "source": []
  },
  {
   "cell_type": "markdown",
   "id": "f61e081b-1f5f-4650-9d17-30653ac9ca17",
   "metadata": {},
   "source": [
    "## Problem 2\n",
    "\n",
    "> Using dataset *workerstips.csv*, create a scatter plot that will differentiate between smokers and non-smokers. Use a different color (hue) and style marker (style) to visually split the points of scatterplot. Because the default range sizes are limited, increase the range size. Try the tuple (10, 300) as the size range parameter.\n",
    "> \n",
    "> ![](https://github.com/hendraanggrian/IIT-ITM513/raw/assets/assignments/hw10_2.png)\n",
    "\n",
    "-\n",
    "\n",
    "### Screenshots\n",
    "\n",
    "1. "
   ]
  },
  {
   "cell_type": "code",
   "execution_count": null,
   "id": "c30a3220-745e-46f9-b0e4-2189417b763f",
   "metadata": {},
   "outputs": [],
   "source": []
  },
  {
   "cell_type": "markdown",
   "id": "7e77a531-bc6d-4957-9b5e-ee6376f4d943",
   "metadata": {},
   "source": [
    "## Problem 3\n",
    "\n",
    "> A simple [bar plot](https://seaborn.pydata.org/generated/seaborn.barplot.html) will work well to show average tips per day of the week. Find out which day has the highest average tip. In this case, you may want to show the average tip (y-axis) per day of the week (x-axis).\n",
    "> \n",
    "> ![](https://github.com/hendraanggrian/IIT-ITM513/raw/assets/assignments/hw10_3.png)\n",
    "\n",
    "-\n",
    "\n",
    "### Screenshots\n",
    "\n",
    "1. "
   ]
  },
  {
   "cell_type": "code",
   "execution_count": null,
   "id": "9f79249b-60f6-4785-95fb-0a84f43d8ea6",
   "metadata": {},
   "outputs": [],
   "source": []
  },
  {
   "cell_type": "markdown",
   "id": "70984ef9-e58e-4b4d-8910-5a38c6f9fcda",
   "metadata": {},
   "source": [
    "## Problem 4\n",
    "\n",
    "> Repeat part (b) above but this time split the distribution by lunch and dinner. What information can you derive from the new visualization?\n",
    "> \n",
    "> ![](https://github.com/hendraanggrian/IIT-ITM513/raw/assets/assignments/hw10_4.png)\n",
    "\n",
    "-\n",
    "\n",
    "### Screenshots\n",
    "\n",
    "1. "
   ]
  },
  {
   "cell_type": "code",
   "execution_count": null,
   "id": "680c8f83-91c5-4e8f-951b-97a29ed3d008",
   "metadata": {},
   "outputs": [],
   "source": []
  },
  {
   "cell_type": "markdown",
   "id": "4708e846",
   "metadata": {},
   "source": []
  },
  {
   "cell_type": "markdown",
   "id": "3496ebdb-c41d-4fd2-86e3-164c0c9d6407",
   "metadata": {},
   "source": [
    "## Problem 5\n",
    "\n",
    "> Using dataset *flight_data.csv*, create a [lineplot](https://seaborn.pydata.org/generated/seaborn.lineplot.html) to plot average number of passengers per year per month. Use the year on the x-axis and the passengers on the y-axis. Also, find out how to plot the total number of passengers per year.\n",
    "> \n",
    "> ![](https://github.com/hendraanggrian/IIT-ITM513/raw/assets/assignments/hw10_5.png)\n",
    "\n",
    "-\n",
    "\n",
    "### Screenshots\n",
    "\n",
    "1. "
   ]
  },
  {
   "cell_type": "code",
   "execution_count": null,
   "id": "04d2770d-1e1f-4174-b6f7-58244b470b86",
   "metadata": {},
   "outputs": [],
   "source": []
  },
  {
   "cell_type": "markdown",
   "id": "f52d1a0c-2ce1-42eb-91fd-e9cafc4e9a78",
   "metadata": {},
   "source": [
    "## Problem 6\n",
    "\n",
    "> Using dataset *titanic.csv*, show the counts of observations in each categorical bin using bars plot.\n",
    "> \n",
    "> ![](https://github.com/hendraanggrian/IIT-ITM513/raw/assets/assignments/hw10_6.png)\n",
    "\n",
    "-\n",
    "\n",
    "### Screenshots\n",
    "\n",
    "1. "
   ]
  },
  {
   "cell_type": "code",
   "execution_count": null,
   "id": "d634e726-07b0-47fb-acfd-d5d2e680d995",
   "metadata": {},
   "outputs": [],
   "source": []
  },
  {
   "cell_type": "markdown",
   "id": "b00a051d-ed0d-465d-b93a-fe8422d3fbbd",
   "metadata": {},
   "source": [
    "## Learning Report\n",
    "\n",
    "> Using Microsoft Word, write a summary report (not a bullet items) with a minimum of 100\n",
    "words explaining how you completed your assignment. *Please describe your responses, not just\n",
    "yes/no answers.*\n",
    "\n",
    "[View report](https://github.com/hendraanggrian/IIT-ITM513/releases/download/hw10/report.pdf) /\n",
    "[source](report.md)"
   ]
  }
 ],
 "metadata": {
  "kernelspec": {
   "display_name": "Python 3 (ipykernel)",
   "language": "python",
   "name": "python3"
  },
  "language_info": {
   "codemirror_mode": {
    "name": "ipython",
    "version": 3
   },
   "file_extension": ".py",
   "mimetype": "text/x-python",
   "name": "python",
   "nbconvert_exporter": "python",
   "pygments_lexer": "ipython3",
   "version": "3.11.5"
  }
 },
 "nbformat": 4,
 "nbformat_minor": 5
}
