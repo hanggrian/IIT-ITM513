{
 "cells": [
  {
   "cell_type": "markdown",
   "id": "07240ea9-108b-4dfd-8b9c-547ca0524c64",
   "metadata": {},
   "source": [
    "# [Homework 6](https://github.com/hendraanggrian/IIT-ITM513/blob/assets/assignments/hw6.pdf): Python Strings and Regular Expressions\n",
    "\n",
    "> Strings in Python are arrays of bytes representing Unicode characters. However, Python does not have a character data type. A single character in Python is simply a string with a length of one. Square brackets can be used to access elements of the string. A regular expression is a special sequence of characters that helps you match or find other strings or sets of strings, using a specialized syntax held in a pattern. The Python module _**re**_ provides full support for Perl-like regular expressions in Python. The re module raises the exception re."
   ]
  },
  {
   "cell_type": "markdown",
   "id": "af17cd42-5fa8-4c1a-a458-823881c09f03",
   "metadata": {},
   "source": [
    "## Problem 1\n",
    "\n",
    "> Using any text editor, manually create a file that contains four or five lines with the following format:\n",
    ">\n",
    "> ```\n",
    "> Username:Firstname:Lastname:Telephone number\n",
    "> ```\n",
    ">\n",
    "> Write a program that will convert such lines to a Lightweight Directory Access Protocol (LDAP) record format as shown below:\n",
    ">\n",
    "> ```\n",
    "> dn: uid=Username, dc=example, dc=com\n",
    "> cn: Firstname Lastname\n",
    "> sn: Lastname\n",
    "> telephoneNumber: Telephone number\n",
    "> ```\n",
    "\n",
    "- \n",
    "\n",
    "### Screenshots\n",
    "\n",
    "1. "
   ]
  },
  {
   "cell_type": "code",
   "execution_count": null,
   "id": "9c821a9d-a901-48ed-808d-3c04513d8a8c",
   "metadata": {},
   "outputs": [],
   "source": []
  },
  {
   "cell_type": "markdown",
   "id": "50eed5aa-7a66-4302-8f54-0449eff7eed6",
   "metadata": {},
   "source": [
    "## Problem 2\n",
    "\n",
    "> In some web forms, users must enter a phone number, and some of these aggravate users by accepting only a specific format. You have been hired to write a program that reads U.S. phone numbers with the three digit area and seven-digit local codes accepted as ten digits, or separated into blocks using hyphens or spaces, and with the area code optionally enclosed in parentheses. For example, all of these are valid: 555-123-1234, (555) 1234567, (555) 123 1234, and 5551234567. Read the phone numbers from user input and for each one echo the number in the form \"(999) 999 9999\" or report an error for any that are invalid, or that don’t have exactly ten digits.\n",
    "\n",
    "- \n",
    "\n",
    "### Screenshots\n",
    "\n",
    "1. "
   ]
  },
  {
   "cell_type": "code",
   "execution_count": null,
   "id": "4193444d-fe16-4b58-bd29-7c2c6cc401a2",
   "metadata": {},
   "outputs": [],
   "source": []
  },
  {
   "cell_type": "markdown",
   "id": "d8a4bfb9-1916-4c8f-ad70-43ac1f4c4658",
   "metadata": {},
   "source": [
    "## Learning Report\n",
    "\n",
    "> Using Microsoft Word or any text editor, answer the following questions. Please describe your answers, do not just say yes or no.\n",
    "\n",
    "[View report](https://github.com/hendraanggrian/IIT-ITM513/releases/download/hw6/report.pdf) /\n",
    "[source](https://github.com/hendraanggrian/IIT-ITM513/blob/main/assignments/hw6/report.md)"
   ]
  }
 ],
 "metadata": {
  "kernelspec": {
   "display_name": "Python 3 (ipykernel)",
   "language": "python",
   "name": "python3"
  },
  "language_info": {
   "codemirror_mode": {
    "name": "ipython",
    "version": 3
   },
   "file_extension": ".py",
   "mimetype": "text/x-python",
   "name": "python",
   "nbconvert_exporter": "python",
   "pygments_lexer": "ipython3",
   "version": "3.11.5"
  }
 },
 "nbformat": 4,
 "nbformat_minor": 5
}
