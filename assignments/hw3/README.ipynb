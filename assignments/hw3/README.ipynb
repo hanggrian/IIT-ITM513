{
 "cells": [
  {
   "cell_type": "markdown",
   "id": "07240ea9-108b-4dfd-8b9c-547ca0524c64",
   "metadata": {},
   "source": [
    "# [Homework 3](https://github.com/hanggrian/IIT-ITM513/blob/assets/assignments/hw3.pdf): Lists/Arrays\n",
    "\n",
    "> A list is a data structure in Python that is a mutable, or changeable, ordered sequence of elements. Each element or value that is inside of a list is called an item. Just as strings are defined as characters between quotes, lists are defined by having values between square brackets `[ ]`. The following assignments should implement the concepts of Python Lists."
   ]
  },
  {
   "cell_type": "markdown",
   "id": "af17cd42-5fa8-4c1a-a458-823881c09f03",
   "metadata": {},
   "source": [
    "## Problem 1\n",
    "\n",
    "> Write a program called *SellItems*. The program should allow the user to enter any item prices, calculate the total, and apply a 7% sales tax. The item prices should be stored in a Python list, and a loop should be used to get the input and calculate the total. The output should include a list of item prices, the subtotal of the prices, the tax amount, and the final cost. Display all results in two decimal places. Create at least two functions and save those functions into a separate file (the file that you created in your previous assignment). Import the file into your main program.\n",
    "\n",
    "- ANSI characters for underlining and bolding text.\n",
    "- Iteratively ask for item price until explicitly stopped (or quits).\n",
    "- Modify parameter `end` to print inline string.\n",
    "\n",
    "### Screenshots\n",
    "\n",
    "1.  Main interface<br><img src=\"https://github.com/hanggrian/IIT-ITM513/raw/assets/assignments/hw3/screenshot1_1.png\" width=\"480\">\n",
    "1.  Safeguarding measures<br><img src=\"https://github.com/hanggrian/IIT-ITM513/raw/assets/assignments/hw3/screenshot1_2.png\" width=\"480\">"
   ]
  },
  {
   "cell_type": "code",
   "execution_count": null,
   "id": "e9f9e6ad-a51f-4054-afb9-d479472d3b72",
   "metadata": {},
   "outputs": [],
   "source": [
    "%load SellItems.py"
   ]
  },
  {
   "cell_type": "code",
   "execution_count": null,
   "id": "7e192934-27ec-457e-8eac-9ac9c1c4fbd8",
   "metadata": {},
   "outputs": [],
   "source": [
    "%load test_SellItems.py"
   ]
  },
  {
   "cell_type": "markdown",
   "id": "50eed5aa-7a66-4302-8f54-0449eff7eed6",
   "metadata": {},
   "source": [
    "## Problem 2\n",
    "\n",
    "> *(Algebra: multiply two matrices)* Write a function to multiply two matrices. The header of the function is:\n",
    ">\n",
    "> ```python\n",
    "> def multiplyMatrix(a, b)\n",
    "> ```\n",
    ">\n",
    "> To multiply matrix $\\bf \\color{blue} a$ by matrix $\\bf \\color{blue} b$, the number of columns in $\\bf \\color{blue} a$ must be the same as the number of rows in $\\bf \\color{blue} b$, and the two matrices must have elements of the same or compatible types. Let $\\bf \\color{blue} c$ be the result of the multiplication. Assume the column size of matrix $\\bf \\color{blue} a$ is $\\bf \\color{blue} n$. Each element $c_{ij}$ is $a_{i1} \\times b_{1j} + a_{i2} \\times b_{2j} + \\ldots + a_{in} \\times b_{nj}$. For example, for two $3 \\times 3$ matrices $\\bf \\color{blue} a$ and $\\bf \\color{blue} b$, $\\bf \\color{blue} c$ is\n",
    ">\n",
    "> $$\n",
    "  \\begin{pmatrix}\n",
    "    a_{11} & a_{12} & a_{13} \\\\\n",
    "    a_{21} & a_{22} & a_{23} \\\\\n",
    "    a_{31} & a_{32} & a_{33}\n",
    "  \\end{pmatrix} \\times\n",
    "  \\begin{pmatrix}\n",
    "    b_{11} & b_{12} & b_{13} \\\\\n",
    "    b_{21} & b_{22} & b_{23} \\\\\n",
    "    b_{31} & b_{32} & b_{33}\n",
    "  \\end{pmatrix} = \n",
    "  \\begin{pmatrix}\n",
    "    c_{11} & c_{12} & c_{13} \\\\\n",
    "    c_{21} & c_{22} & c_{23} \\\\\n",
    "    c_{31} & c_{32} & c_{33}\n",
    "  \\end{pmatrix}\n",
    "  $$\n",
    ">\n",
    "> where $c_{ij} = a_{i1} \\times b_{1j} + a_{i2} + b_{2j} + a_{i3} \\times b_{3j}$.\n",
    ">\n",
    "> Write a test program that prompts the user to enter two $3 \\times 3$ matrices and displays their product. Here is a sample run:\n",
    ">\n",
    "> ```\n",
    "> Enter matrix1: 1 2 3 4 5 6 7 8 9 [↵ Enter]\n",
    "> Enter matrix2: 0 2 4 1 4.5 2.2 1.1 4.3 5.2 [↵ Enter]\n",
    "> The multiplication of matrices is\n",
    "> 1 2 3     0 2.0 4.0       5.3 23.9 24\n",
    "> 4 5 6  *  1 4.5 2.2    =  11.6 56.3 58.2\n",
    "> 7 8 9     1.1 4.3 5.2     111.9 88.7 92.4\n",
    "> ```\n",
    "\n",
    "- Split input using whitespace delimiter.\n",
    "- Trim trailing `.0` in decimal when printing.\n",
    "- Pretty printing with whitespace padding on all matrix elements.\n",
    "\n",
    "### Screenshots\n",
    "\n",
    "1.  Main interface<br><img src=\"https://github.com/hanggrian/IIT-ITM513/raw/assets/assignments/hw3/screenshot2_1.png\" width=\"480\">\n",
    "1.  Safeguarding measures<br><img src=\"https://github.com/hanggrian/IIT-ITM513/raw/assets/assignments/hw3/screenshot2_2.png\" width=\"480\">"
   ]
  },
  {
   "cell_type": "code",
   "execution_count": null,
   "id": "4193444d-fe16-4b58-bd29-7c2c6cc401a2",
   "metadata": {},
   "outputs": [],
   "source": [
    "%load MultiplyMatrices.py"
   ]
  },
  {
   "cell_type": "code",
   "execution_count": null,
   "id": "56e2ee04-7cdb-421d-9a7e-aa507a146665",
   "metadata": {},
   "outputs": [],
   "source": [
    "%load test_MultiplyMatrices.py"
   ]
  },
  {
   "cell_type": "markdown",
   "id": "d8a4bfb9-1916-4c8f-ad70-43ac1f4c4658",
   "metadata": {},
   "source": [
    "## Learning report\n",
    "\n",
    "> Using Microsoft Word or any text editor, answer the following questions. Please describe your answers, do not just say yes or no.\n",
    "\n",
    "[View report](https://github.com/hanggrian/IIT-ITM513/releases/download/hw3/report.pdf) /\n",
    "[source](report.md)"
   ]
  }
 ],
 "metadata": {
  "kernelspec": {
   "display_name": "Python 3 (ipykernel)",
   "language": "python",
   "name": "python3"
  },
  "language_info": {
   "codemirror_mode": {
    "name": "ipython",
    "version": 3
   },
   "file_extension": ".py",
   "mimetype": "text/x-python",
   "name": "python",
   "nbconvert_exporter": "python",
   "pygments_lexer": "ipython3",
   "version": "3.11.7"
  }
 },
 "nbformat": 4,
 "nbformat_minor": 5
}
