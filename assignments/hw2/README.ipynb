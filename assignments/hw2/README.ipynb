{
 "cells": [
  {
   "cell_type": "markdown",
   "id": "b657c8f0-51e5-4226-b7d0-f50e9c20e362",
   "metadata": {},
   "source": [
    "# [Homework 2](https://github.com/hendraanggrian/IIT-ITM513/blob/assets/assignments/hw2.pdf): Functions and creating functions on a separate file"
   ]
  },
  {
   "cell_type": "markdown",
   "id": "91b3a610-00a7-4708-8fee-5c35285b5cc8",
   "metadata": {},
   "source": [
    "## Problem 1\n",
    "\n",
    "> In Python, sub-programs are called **functions**. Each function in a program should do one and only one subtask. Data get passed back and forth between the \"main\" section of the program and various functions. The main part may pass data to a function, receive new data from a function, or both. Data received from a function could in turn be passed on to another function. You can imagine data flowing along the connecting lines in the structure chart. That’s how we \"empower these subprograms to work together.\"\n",
    ">\n",
    "> Since most of the trigonometric functions require that the angle is expressed in radians. In this assignment, we will create our own functions in order to convert between radians and degrees.\n",
    ">\n",
    "> It is quite easy to convert from radians to degrees or from degrees to radians.\n",
    ">\n",
    "> We have that:\n",
    "> \n",
    "> $$\n",
    "  2 \\pi [radians] = 360[degrees]\n",
    "  $$\n",
    ">\n",
    "> This gives:\n",
    ">\n",
    "> $$\n",
    "  d[degrees] = r[radians] \\times (\\frac{180}{\\pi})\n",
    "  $$\n",
    ">\n",
    "> and\n",
    ">\n",
    "> $$\n",
    "  r[radians] = d[degrees] \\times (\\frac{\\pi}{180})\n",
    "  $$\n",
    ">\n",
    "> Create two functions that convert from radians to degrees (`r2d(x)`) and from degrees to radians (`d2r(x)`) respectively. Save your functions into a separate Python file and import the file when you write your main program. Test the functions thoroughly to make sure that they work as expected.\n",
    "\n",
    "- ANSI character to stylize command-line characters.\n",
    "- String interpolation with f-strings.\n",
    "- Use standard unit testing framework.\n",
    "\n",
    "### Screenshots\n",
    "\n",
    "1.  Main interface<br><img src=\"https://github.com/hendraanggrian/IIT-ITM513/raw/assets/assignments/hw2/screenshot1_1.png\" width=\"480\">\n",
    "1.  Safeguarding measures<br><img src=\"https://github.com/hendraanggrian/IIT-ITM513/raw/assets/assignments/hw2/screenshot1_2.png\" width=\"480\">"
   ]
  },
  {
   "cell_type": "code",
   "execution_count": null,
   "id": "abdae67c-0f22-4b86-bbeb-fde754364ca2",
   "metadata": {},
   "outputs": [],
   "source": [
    "%load calculator.py"
   ]
  },
  {
   "cell_type": "code",
   "execution_count": null,
   "id": "25c577dd-82b1-4045-9f84-11fb6dcd381a",
   "metadata": {},
   "outputs": [],
   "source": [
    "%load trigonometric_calculator.py"
   ]
  },
  {
   "cell_type": "code",
   "execution_count": null,
   "id": "8dd5d2f6-0ddb-4a5a-820d-817c4daf18d6",
   "metadata": {},
   "outputs": [],
   "source": [
    "%load test_calculator.py"
   ]
  },
  {
   "cell_type": "markdown",
   "id": "36ca8f36-0771-4d36-bc38-36cbb7fd1ec6",
   "metadata": {},
   "source": [
    "## Problem 2\n",
    "\n",
    "> Given a complete program below, rewrite the program using functions. Create at least two functions and save your functions into a file that you have created in Question #1. Import the file when you write your main program.\n",
    ">\n",
    "> ```python\n",
    "> # This program calculates retail prices.\n",
    "> mark_up = 2.5 # The markup percentage\n",
    "> another = 'y' # Variable to control the loop\n",
    ">\n",
    "> # Process one or more items.\n",
    "> while another == 'y' or another == 'Y':\n",
    ">     # Get the item's wholesale cost.\n",
    ">     wholesale = float(input(\"Enter the item's wholesale cost: \"))\n",
    "> \n",
    "> # Validate the wholesale cost.\n",
    "> while wholesale < 0:\n",
    ">     print('ERROR: the cost cannot be negative.')\n",
    ">     wholesale = float(input('Enter the correct wholesale cost:'))\n",
    ">\n",
    "> # Calculate the retail price.\n",
    "> retail = wholesale * mark_up\n",
    ">\n",
    "> # Display the retail price.\n",
    "> print('Retail price: $', format(retail, ',.2f'))\n",
    ">\n",
    "> # Do this again?\n",
    "> another = input('Do you have another item? (Enter y for yes): ')\n",
    "> ```\n",
    "\n",
    "- Re-use `calculator.py` and `prompts.py`.\n",
    "- Restrict negative item cost.\n",
    "- Run recursively until the user chooses quit (or force exit).\n",
    "\n",
    "### Screenshots\n",
    "\n",
    "1.  Main interface<br><img src=\"https://github.com/hendraanggrian/IIT-ITM513/raw/assets/assignments/hw2/screenshot2_1.png\" width=\"480\">\n",
    "1.  Safeguarding measures<br><img src=\"https://github.com/hendraanggrian/IIT-ITM513/raw/assets/assignments/hw2/screenshot2_2.png\" width=\"480\">"
   ]
  },
  {
   "cell_type": "code",
   "execution_count": null,
   "id": "42b78de2-cc06-4205-9556-4affface2c57",
   "metadata": {},
   "outputs": [],
   "source": [
    "%load retail_calculator.py"
   ]
  },
  {
   "cell_type": "markdown",
   "id": "b00a051d-ed0d-465d-b93a-fe8422d3fbbd",
   "metadata": {},
   "source": [
    "## Learning report\n",
    "\n",
    "> Using Microsoft Word or any text editor, answer the following questions. Please describe your answers, do not just say yes or no.\n",
    "\n",
    "[View report](https://github.com/hendraanggrian/IIT-ITM513/releases/download/hw2/report.pdf) /\n",
    "[source](report.md)"
   ]
  }
 ],
 "metadata": {
  "kernelspec": {
   "display_name": "Python 3 (ipykernel)",
   "language": "python",
   "name": "python3"
  },
  "language_info": {
   "codemirror_mode": {
    "name": "ipython",
    "version": 3
   },
   "file_extension": ".py",
   "mimetype": "text/x-python",
   "name": "python",
   "nbconvert_exporter": "python",
   "pygments_lexer": "ipython3",
   "version": "3.11.7"
  }
 },
 "nbformat": 4,
 "nbformat_minor": 5
}
