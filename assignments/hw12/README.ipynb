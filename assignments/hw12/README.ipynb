{
 "cells": [
  {
   "cell_type": "markdown",
   "id": "b657c8f0-51e5-4226-b7d0-f50e9c20e362",
   "metadata": {},
   "source": [
    "# [Homework 12](https://github.com/hanggrian/IIT-ITM513/blob/assets/assignments/hw12_1.pdf): Recursions and Graphical User Interface (GUI)"
   ]
  },
  {
   "cell_type": "markdown",
   "id": "91b3a610-00a7-4708-8fee-5c35285b5cc8",
   "metadata": {},
   "source": [
    "## Problem 1\n",
    "\n",
    "> Create a program called password_checker.py which is responsible for checking that the password meets some pre-defined criteria. The following function is required to be implement within this program:\n",
    ">\n",
    "> - **`does_password_pass_check`**\n",
    ">   - *Input parameter:*\n",
    ">     - password &rarr; string\n",
    ">   - *Output parameter:*\n",
    ">     - Boolean value: True, if the password contains at least one digit (0 to 9).\n",
    ">     - Boolean value: False, if the password does not contain at least one digit (0 to 9) or an invalid value is entered as input.\n",
    ">\n",
    "> **Note:** This function must be a recursive function.\n",
    ">\n",
    "> - **`main`**\n",
    ">   - When this program is run the main function should be executed.\n",
    ">   - Call does_password_pass_check function with various valid and invalid cases/inputs and print the output.\n",
    "\n",
    "- Avoid if-else propagation with multiple if statements.\n",
    "- Only check the first element and pass the rest.\n",
    "- Returns true when all characters are depleted.\n",
    "\n",
    "### Screenshots\n",
    "\n",
    "1.  Main interface<br><img src=\"https://github.com/hanggrian/IIT-ITM513/raw/assets/assignments/hw12/screenshot1.png\" width=\"480\">"
   ]
  },
  {
   "cell_type": "code",
   "execution_count": null,
   "id": "76fe9b0c-cf1d-4813-bfd2-c8521193e448",
   "metadata": {},
   "outputs": [],
   "source": [
    "%load password_checker.py"
   ]
  },
  {
   "cell_type": "code",
   "execution_count": null,
   "id": "ed6f2497-8038-4ead-8753-5f0823dad545",
   "metadata": {},
   "outputs": [],
   "source": [
    "%load test_password_checker.py"
   ]
  },
  {
   "cell_type": "markdown",
   "id": "36ca8f36-0771-4d36-bc38-36cbb7fd1ec6",
   "metadata": {},
   "source": [
    "## Problem 2\n",
    "\n",
    "> Please see the question below and write a program and create a class called **Coin**.\n",
    "> \n",
    "> Using Python’s tkinter Graphical User Interface (GUI) module create a Python program to input the number of each type of coin a user has in their possession and then compute and display the total dollar and cents value of these coins. Your solution must accommodate Quarter, Dime, Nickel, and Penny coins. Include Half-dollar and Dollar coins as well. Your solution must be robust against invalid inputs (i.e., negative value entered into any coin entry widget). One possible design of your GUI is shown below.\n",
    ">\n",
    "> ![](https://github.com/hanggrian/IIT-ITM513/raw/assets/assignments/hw12_2_1.png)\n",
    "\n",
    "- Coin class to convert input into a dollar amount.\n",
    "- Reactive layout with weight and grid spanning.\n",
    "- While editing text fields, capture the enter key with `bind` method.\n",
    "\n",
    "### Screenshots\n",
    "\n",
    "1.  Main interface<br><img src=\"https://github.com/hanggrian/IIT-ITM513/raw/assets/assignments/hw12/screenshot2_1.png\" width=\"480\">\n",
    "1.  Expanded state with empty fields<br><img src=\"https://github.com/hanggrian/IIT-ITM513/raw/assets/assignments/hw12/screenshot2_2.png\" width=\"640\">\n",
    "1.  Safeguarding measures<br><img src=\"https://github.com/hanggrian/IIT-ITM513/raw/assets/assignments/hw12/screenshot2_3.png\" width=\"480\">\n",
    "1.  Class diagram<br><img src=\"https://github.com/hanggrian/IIT-ITM513/raw/assets/assignments/hw12/diagram1.svg\" width=\"240\">"
   ]
  },
  {
   "cell_type": "code",
   "execution_count": null,
   "id": "42b78de2-cc06-4205-9556-4affface2c57",
   "metadata": {},
   "outputs": [],
   "source": [
    "%load change_counter.py"
   ]
  },
  {
   "cell_type": "code",
   "execution_count": null,
   "id": "a7d747a2-2a40-4ea5-ba5c-f5b5aae6df49",
   "metadata": {},
   "outputs": [],
   "source": [
    "%load test_change_counter.py"
   ]
  },
  {
   "cell_type": "markdown",
   "id": "b00a051d-ed0d-465d-b93a-fe8422d3fbbd",
   "metadata": {},
   "source": [
    "## Learning report\n",
    "\n",
    "> Using Microsoft Word, answer the following eight questions.\n",
    "\n",
    "[View report](https://github.com/hanggrian/IIT-ITM513/releases/download/hw12/report.pdf) /\n",
    "[source](report.md)"
   ]
  }
 ],
 "metadata": {
  "kernelspec": {
   "display_name": "Python 3 (ipykernel)",
   "language": "python",
   "name": "python3"
  },
  "language_info": {
   "codemirror_mode": {
    "name": "ipython",
    "version": 3
   },
   "file_extension": ".py",
   "mimetype": "text/x-python",
   "name": "python",
   "nbconvert_exporter": "python",
   "pygments_lexer": "ipython3",
   "version": "3.11.7"
  }
 },
 "nbformat": 4,
 "nbformat_minor": 5
}
