{
 "cells": [
  {
   "cell_type": "markdown",
   "id": "07240ea9-108b-4dfd-8b9c-547ca0524c64",
   "metadata": {},
   "source": [
    "# [Homework 8](https://github.com/hendraanggrian/IIT-ITM513/blob/assets/assignments/hw8.pdf): Data analysis using Pandas\n",
    "\n",
    "> The focus of this assignment is to learn to create data analytics using the Python Pandas library. This assignment requires that you use Jupyter Notebook to write your program. Please watch the video lectures on how to install Anaconda Tool and how to use Jupyter Notebook.\n",
    ">\n",
    "> (Note: In Python IDE, we use command pip (for Windows) or pip3 (for macOS) to install Pandas. If you have installed the Anaconda tool, most of the Python packages should already be included within the tool.)"
   ]
  },
  {
   "cell_type": "markdown",
   "id": "af17cd42-5fa8-4c1a-a458-823881c09f03",
   "metadata": {},
   "source": [
    "## Problem 1\n",
    "\n",
    "> Write a program on the following two questions. Both Sections A and B should be written in one program.\n",
    ">\n",
    "> 1.  **(PANDAS: `SERIES`)** Perform the following tasks with pandas `Series`:\n",
    ">     1.  Create a `Series` from the list `[7, 11, 13, 17]`.\n",
    ">     1.  Create a `Series` with five elements that are all `100.0`.\n",
    ">     1.  Create a `Series` with 20 elements that are all random numbers in the range `0` to `100`. Use method `describe` to produce the `Series`’ basic descriptive statistics.\n",
    ">     1.  Create a `Series` called temperatures of the floating-point values `98.6`, `98.9`, `100.2` and `97.9`. Using the `index` keyword argument, specify the custom indices `'Julie'`, `'Charlie'`, `'Sam'` and `'Andrea'`.\n",
    ">     1.  Form a dictionary from the names and values in Part (d), then use it to initialize a `Series`.\n",
    "> 1.  **(PANDAS: `DATAFRAMES`)** Perform the following tasks with pandas `DataFrames`:\n",
    ">     6.  Create a `DataFrame` named temperatures from a dictionary of three temperature readings each for `'Maxine'`, `'James'` and `'Amanda'`.\n",
    ">     6.  Recreate the `DataFrame` temperatures in Part (a) with custom indices using the `index` keyword argument and a list containing `'Morning'`, `'Afternoon'` and `'Evening'`.\n",
    ">     6.  Select from `temperatures` the column of temperature readings for `'Maxine'`.\n",
    ">     6.  Select from `temperatures` the row of `'Morning'` temperature readings.\n",
    ">     6.  Select from `temperatures` the rows for `'Morning'` and `'Evening'` temperature readings.\n",
    ">     6.  Select from `temperatures` the columns of temperature readings for `'Amanda'` and `'Maxine'`.\n",
    ">     6.  Select from `temperatures` the elements for `'Amanda'` and `'Maxine'` in the `'Morning'` and `'Afternoon'`.\n",
    ">     6.  Use the `describe` method to produce `temperatures`’ descriptive statistics.\n",
    ">     6.  Transpose `temperatures`.\n",
    ">     6.  Sort temperatures so that its column names are in alphabetical order.\n",
    "\n",
    "- Only declare variables that are accessed more than once.\n",
    "- Convenient method to print answers by its question.\n",
    "\n",
    "### Screenshots\n",
    "\n",
    "1.  Operating Series<br><img src=\"https://github.com/hendraanggrian/IIT-ITM513/raw/assets/assignments/hw8/screenshot1_1.png\" width=\"480\">\n",
    "1.  Operating DataFrame<br><img src=\"https://github.com/hendraanggrian/IIT-ITM513/raw/assets/assignments/hw8/screenshot1_2.png\" width=\"480\">"
   ]
  },
  {
   "cell_type": "code",
   "execution_count": null,
   "id": "9c821a9d-a901-48ed-808d-3c04513d8a8c",
   "metadata": {},
   "outputs": [],
   "source": [
    "%load pandas_sample.py"
   ]
  },
  {
   "cell_type": "markdown",
   "id": "50eed5aa-7a66-4302-8f54-0449eff7eed6",
   "metadata": {},
   "source": [
    "## Problem 2\n",
    "\n",
    "> Using the `titanic.csv` dataset, write a program to explore and mine the following information:\n",
    ">\n",
    "> 1.  How many passengers were on the titanic?\n",
    "> 1.  How many male and female passengers were in the titanic?\n",
    "> 1.  What was the average age of all passengers?\n",
    "> 1.  How many passengers were under 21 years of age?\n",
    "> 1.  How many survived and how many did not? How many males and how many females?\n",
    "> 1.  What was the youngest age that survived, and the oldest age? What were their names?\n",
    "> 1.  Display the name of all passengers that survived.\n",
    ">\n",
    "> *(Save the results above into a file of your choice)*\n",
    ">\n",
    "> **Below is a sample running program for Question \\#2 (titanic program):**\n",
    ">\n",
    "> ```\n",
    "> There were 1309 passengers on the Titanic.\n",
    "> Number of Male Passengers: 843\n",
    "> Number of Female Passengers: 466\n",
    "> The average age of all the passengers was 29.89\n",
    "> There are 249 passengers under 21 years old.\n",
    "> Total Passengers Survived: 500, Male: 161, Female: 339\n",
    "> Total Passengers Deceased: 809, Male: 682, Female: 127\n",
    "> The youngest survivor was Dean, Miss. Elizabeth Gladys M. She was 0.17 years old.\n",
    "> The oldest survivor was Barkworth, Mr. Algernon Henry W. He was 80.0 years old.\n",
    "> List of Passengers: Allen, Miss. Elisabeth Walton\n",
    "> Allison, Master. Hudson Trevor\n",
    "> Anderson, Mr. Harry\n",
    "> Andrews, Miss. Kornelia Theodos\n",
    "> Appleton, Mrs. Edward Dale (Cha\n",
    "> Astor, Mrs. John Jacob (Madelei\n",
    "> Aubart, Mme. Leontine Pauline\n",
    "> Barber, Miss. Ellen Nellie\n",
    "> Barkworth, Mr. Algernon Henry W\n",
    "> Baxter, Mrs. James (Helene DeLa\n",
    "> Bazzani, Miss. Albina\n",
    "> Beckwith, Mr. Richard Leonard\n",
    "> Beckwith, Mrs. Richard Leonard\n",
    "> Behr, Mr. Karl Howell\n",
    "> Bidois, Miss. Rosalie\n",
    "> Bird, Miss. Ellen\n",
    "> Bishop, Mr. Dickinson H\n",
    "> Bishop, Mrs. Dickinson H (Helen\n",
    "> Bissette, Miss. Amelia\n",
    "> Bjornstrom-Steffansson, Mr. Mau\n",
    "> Blank, Mr. Henry\n",
    "> Bonnell, Miss. Caroline\n",
    "> Bonnell, Miss. Elizabeth\n",
    "> Bowen, Miss. Grace Scott\n",
    "> Bowerman, Miss. Elsie Edith\n",
    "> Bradley, Mr. George (George Ar\n",
    "> Brown, Mrs. James Joseph (Marga\n",
    "> Brown, Mrs. John Murray (Caroli\n",
    "> Bucknell, Mrs. William Robert (\n",
    "> Burns, Miss. Elizabeth Margaret\n",
    "> Calderhead, Mr. Edward Penningt\n",
    "> Candee, Mrs. Edward (Helen Chur\n",
    "> Cardeza, Mr. Thomas Drake Marti\n",
    "> .\n",
    "> .\n",
    "> .\n",
    "> (continue…)\n",
    "> ```\n",
    "\n",
    "- Declare search conditions for several table columns.\n",
    "- Simple function to get the pronunciation of a table row.\n",
    "\n",
    "### Screenshots\n",
    "\n",
    "1.  Main interface<br><img src=\"https://github.com/hendraanggrian/IIT-ITM513/raw/assets/assignments/hw8/screenshot2.png\" width=\"480\">"
   ]
  },
  {
   "cell_type": "code",
   "execution_count": null,
   "id": "4193444d-fe16-4b58-bd29-7c2c6cc401a2",
   "metadata": {},
   "outputs": [],
   "source": [
    "%load titanic.py"
   ]
  },
  {
   "cell_type": "markdown",
   "id": "d8a4bfb9-1916-4c8f-ad70-43ac1f4c4658",
   "metadata": {},
   "source": [
    "## Learning report\n",
    "\n",
    "> Using Microsoft Word, write a summary report (not a bullet item) with a minimum of 100 words explaining how you completed your assignment. *Please describe your responses, not just yes/no answers.*\n",
    "\n",
    "[View report](https://github.com/hendraanggrian/IIT-ITM513/releases/download/hw8/report.pdf) /\n",
    "[source](report.md)"
   ]
  }
 ],
 "metadata": {
  "kernelspec": {
   "display_name": "Python 3 (ipykernel)",
   "language": "python",
   "name": "python3"
  },
  "language_info": {
   "codemirror_mode": {
    "name": "ipython",
    "version": 3
   },
   "file_extension": ".py",
   "mimetype": "text/x-python",
   "name": "python",
   "nbconvert_exporter": "python",
   "pygments_lexer": "ipython3",
   "version": "3.11.7"
  }
 },
 "nbformat": 4,
 "nbformat_minor": 5
}
