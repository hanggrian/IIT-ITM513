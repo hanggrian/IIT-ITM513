{
 "cells": [
  {
   "cell_type": "markdown",
   "id": "b657c8f0-51e5-4226-b7d0-f50e9c20e362",
   "metadata": {},
   "source": [
    "# [Homework 9](https://github.com/hendraanggrian/IIT-ITM513/blob/assets/assignments/hw9.pdf): Dictionaries, Sets, and Pickle modules"
   ]
  },
  {
   "cell_type": "markdown",
   "id": "91b3a610-00a7-4708-8fee-5c35285b5cc8",
   "metadata": {},
   "source": [
    "## Problem 1\n",
    "\n",
    "> Making sure that your company records are maintained and stored properly is a project that could be the most important day-to-day work for your business. Developing and maintaining a complete records management program will have a sizeable impact on your company. With the right program in place, your company will have a roadmap that tracks and files all your records leading to a more efficient work environment.\n",
    "> \r",
    "> You are required to write a program that keeps names and email addresses in a dictionary as key-value pairs. The program should display a menu that lets the user lookup a person’s email address, add a new name and email address, change an existing email address, and delete an existing name and email address. The program should *bind* the dictionary and save it to a file when the user exits the program. Each time the program starts, it should retrieve the dictionary from the file and unbind it. The program should run continuously until the user selects an option to exit from the menu.\r",
    ">\n",
    "> Consider using the Python *pickle* library when designing your program.\n",
    ">\n",
    "> **Below is a sample of a running program:**\n",
    ">\n",
    "> ```\n",
    "> A 'data' file was created.\n",
    ">\n",
    "> Enter the number corresponding to what you'd like to do.\n",
    ">\n",
    "> 1. Add a new name and email address.\n",
    "> 2. Find an existing email address from a name.\n",
    "> 3. Change an existing email address.\n",
    "> 4. Delete an existing name and email address.\n",
    "> 5. Exit the program.\n",
    "> Enter a number: 1\n",
    "> Enter the name you would like to add: mike\n",
    "> Enter the email you would like to add: mike@gmail.com\n",
    "> The name and email has been addded.\n",
    ">\n",
    "> Enter the number corresponding to what you'd like to do.\n",
    "> \n",
    "> 1. Add a new name and email address.\n",
    "> 2. Find an existing email address from a name.\n",
    "> 3. Change an existing email address.\n",
    "> 4. Delete an existing name and email address.\n",
    "> 5. Exit the program.\n",
    "> Enter a number: 2\n",
    "> Enter the name you would like to search: mike\n",
    "> The email is: mike@gmail.com\n",
    ">\n",
    "> Enter the number corresponding to what you'd like to do.\n",
    "> \n",
    "> 1. Add a new name and email address.\n",
    "> 2. Find an existing email address from a name.\n",
    "> 3. Change an existing email address.\n",
    "> 4. Delete an existing name and email address.\n",
    "> 5. Exit the program.\n",
    "> Enter a number: 1\n",
    "> Enter the name you would like to add: rick\n",
    "> Enter the email you would like to add: rick@yahoo.com\n",
    "> The name and email has been addded.\n",
    ">\n",
    "> Enter the number corresponding to what you'd like to do.\n",
    "> \n",
    "> 1. Add a new name and email address.\n",
    "> 2. Find an existing email address from a name.\n",
    "> 3. Change an existing email address.\n",
    "> 4. Delete an existing name and email address.\n",
    "> 5. Exit the program.\n",
    "> Enter a number: 2\n",
    "> Enter the name you would like to search: rick\n",
    "> The email is: rick@yahoo.com\n",
    ">\n",
    "> Enter the number corresponding to what you'd like to do.\n",
    "> 1. Add a new name and email address.\n",
    "> 2. Find an existing email address from a name.\n",
    "> 3. Change an existing email address.\n",
    "> ```\n",
    "\n",
    "-\n",
    "\n",
    "### Screenshots\n",
    "\n",
    "1. "
   ]
  },
  {
   "cell_type": "code",
   "execution_count": null,
   "id": "b3f869b4-9e06-48f1-9ebd-8bedd1b12cb4",
   "metadata": {},
   "outputs": [],
   "source": []
  },
  {
   "cell_type": "markdown",
   "id": "b00a051d-ed0d-465d-b93a-fe8422d3fbbd",
   "metadata": {},
   "source": [
    "## Learning Report\n",
    "\n",
    "> Using Microsoft Word, answer the following eight questions.\n",
    "\n",
    "[View report](https://github.com/hendraanggrian/IIT-ITM513/releases/download/hw9/report.pdf) /\n",
    "[source](report.md)"
   ]
  }
 ],
 "metadata": {
  "kernelspec": {
   "display_name": "Python 3 (ipykernel)",
   "language": "python",
   "name": "python3"
  },
  "language_info": {
   "codemirror_mode": {
    "name": "ipython",
    "version": 3
   },
   "file_extension": ".py",
   "mimetype": "text/x-python",
   "name": "python",
   "nbconvert_exporter": "python",
   "pygments_lexer": "ipython3",
   "version": "3.11.5"
  }
 },
 "nbformat": 4,
 "nbformat_minor": 5
}
