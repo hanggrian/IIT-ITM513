{
 "cells": [
  {
   "cell_type": "markdown",
   "id": "b657c8f0-51e5-4226-b7d0-f50e9c20e362",
   "metadata": {},
   "source": [
    "# [Homework 11](https://github.com/hendraanggrian/IIT-ITM513/blob/assets/assignments/hw11.pdf): Object-Oriented Programming (OOP)\n",
    "\n",
    "> Polymorphism in Python defines methods in the child class that have the same name as the methods in the parent class. In inheritance, the child class inherits the methods from the parent class. Also, it is possible to modify a method in a child class that it has inherited from the parent class.\n",
    ">\n",
    "> The goal of this program is to create classes that represent to a certain degree different types of stores in real life and the information tracked and services provided by these stores. In order to accomplish this the following classes must to be created:"
   ]
  },
  {
   "cell_type": "markdown",
   "id": "91b3a610-00a7-4708-8fee-5c35285b5cc8",
   "metadata": {},
   "source": [
    "## Problem 1\n",
    "\n",
    "> Create a program called store.py which contains an abstract class called Store which is made up of the following:\n",
    ">\n",
    "> - **Attributes/Properties**\n",
    ">   - Store name\n",
    ">   - Store address\n",
    ">   - Store availability/status (open or closed)\n",
    ">   - Sales tax percentage\n",
    "> - **Functions/Functionality**\n",
    ">   - Constructor which provides the ability to pass and set the values for the various attributes.\n",
    ">   - Getter and setters for all the attributes mentioned above.\n",
    ">   - `is_store_open` should return True if the store is open and False if the store is closed.\n",
    ">   - Abstract function called: `calculate_total_sales_tax`.\n",
    ">   - Abstract function called `calculate_total_sales`.\n",
    "\n",
    "- Superclass with abstract functions.\n",
    "- Check every function parameter for invalid input.\n",
    "- State type hint for clarity."
   ]
  },
  {
   "cell_type": "code",
   "execution_count": null,
   "id": "76fe9b0c-cf1d-4813-bfd2-c8521193e448",
   "metadata": {},
   "outputs": [],
   "source": [
    "%load store.py"
   ]
  },
  {
   "cell_type": "markdown",
   "id": "36ca8f36-0771-4d36-bc38-36cbb7fd1ec6",
   "metadata": {},
   "source": [
    "## Problem 2\n",
    "\n",
    "> Create a program called restaurant.py which contains a class called Restaurant which is type of Store. It should possess all the attributes and functions present in the Store class without having to re-implement those in the Restaurant class. The Restaurant class is made up of the following:\n",
    ">\n",
    "> - **Attributes/Properties**\n",
    ">   - Total number of people served\n",
    ">   - Max occupancy\n",
    ">   - Current occupancy\n",
    ">   - Price per person\n",
    "> - **Functions/Functionality**\n",
    ">   - Constructor which provides the ability to pass and set the values for the various attributes.\n",
    ">   - `seat_patrons` should do the following:\n",
    ">     - Take the number of people to be seated as input.\n",
    ">     - Update the values of the appropriate attributes.\n",
    ">     - If number of people to be seated does not exceed or equals the max occupancy:\n",
    ">       - Print \"Welcome to [replace with name of restaurant]\".\n",
    ">       - Return True.\n",
    ">     - If number of people to be seated exceeds the max occupancy:\n",
    ">       - Print \"We are at capacity, we appreciate your patience\".\n",
    ">       - Return False.\n",
    ">   - `serve_patrons` which should do the following:\n",
    ">     - Take the number of people to serve as input.\n",
    ">     - Update the values of the appropriate attributes.\n",
    ">     - Return the number of people being served currently.\n",
    ">   - `checkout_patrons` (this is when the patrons are ready to leave the restaurant) which should do the following:\n",
    ">     - Take the number of people leaving as input.\n",
    ">     - Update the values of the appropriate attributes.\n",
    ">     - Return the current occupancy of the restaurant.\n",
    ">   - Create a getter and setter for the attribute: Price per person.\n",
    "\n",
    "- Default parameter values non-critical properties.\n",
    "- Process guests based on current capacity.\n",
    "- Prohibits explicitly configuring occupancy."
   ]
  },
  {
   "cell_type": "code",
   "execution_count": null,
   "id": "42b78de2-cc06-4205-9556-4affface2c57",
   "metadata": {},
   "outputs": [],
   "source": [
    "%load restaurant.py"
   ]
  },
  {
   "cell_type": "code",
   "execution_count": null,
   "id": "0ae87d7a-5d15-4a57-8e71-53eb3bcf2fba",
   "metadata": {},
   "outputs": [],
   "source": [
    "%load test_restaurant.py"
   ]
  },
  {
   "cell_type": "markdown",
   "id": "9b8dc729-1d92-46d3-afcd-033a62f7c290",
   "metadata": {},
   "source": [
    "## Problem 3\n",
    "\n",
    "> Create a program called grocery_store.py which contains a class called GroceryStore which is type of Store. It should possess all the attributes and functions present in the Store class without having to re-implement those in the GroceryStore class. The GroceryStore class is made up of the following:\n",
    ">\n",
    "> - **Attributes/Properties**\n",
    ">   - Total revenue\n",
    ">   - Grocery store type (independent or chain)\n",
    "> - **Functions/Functionality**\n",
    ">   - Constructor which provides the ability to pass and set the values for the various attributes.\n",
    ">   - `sell_item` which should do the following:\n",
    ">     - Takes the quantity and price of an item as input.\n",
    ">     - Update the values of the appropriate attributes.\n",
    ">     - Return the total revenue of the grocery store.\n",
    ">   - Create a getter and setter for the attribute: Grocery Store type.\n",
    "\n",
    "- Default parameter values non-critical properties.\n",
    "- Check the selling function parameters for non-positive input.\n",
    "- Implement abstract methods and inherit docstring."
   ]
  },
  {
   "cell_type": "code",
   "execution_count": null,
   "id": "d0d330b5-c084-4b53-a3f6-0f653ce83001",
   "metadata": {},
   "outputs": [],
   "source": [
    "%load grocery_store.py"
   ]
  },
  {
   "cell_type": "code",
   "execution_count": null,
   "id": "944de2f6-02f8-4d0e-9d2b-3530a4d63b08",
   "metadata": {},
   "outputs": [],
   "source": [
    "%load test_grocery_store.py"
   ]
  },
  {
   "cell_type": "markdown",
   "id": "68b8f08b-6bf0-4bfa-853c-a2b8442ab595",
   "metadata": {},
   "source": [
    "## Problem 4\n",
    "\n",
    "> Create a program called `shopping.py` which will make use of the above-mentioned Restaurant and GroceryStore classes and call their various functions to simulate the actions which take place in real life restaurants and grocery stores in order to test your code.\n",
    "\n",
    "- Call constructors with default parameters.\n",
    "- Log each action in a command line.\n",
    "- Report sales with a superclass function parameter.\n",
    "\n",
    "### Screenshots\n",
    "\n",
    "1. Main interface<br><img src=\"https://github.com/hendraanggrian/IIT-ITM513/raw/assets/assignments/hw11/screenshot1.png\" width=\"480\">"
   ]
  },
  {
   "cell_type": "code",
   "execution_count": null,
   "id": "afec7e7a-2923-4303-8e15-8d8af83b7d62",
   "metadata": {},
   "outputs": [],
   "source": [
    "%load shopping.py"
   ]
  },
  {
   "cell_type": "markdown",
   "id": "73872cf9-5e2e-498e-94da-ca511d91f8f9",
   "metadata": {},
   "source": [
    "## Problem 5\n",
    "\n",
    "> Create and submit UML diagram.\n",
    "\n",
    "- Private and public properties are denoted by minus and public respectively.\n",
    "- Abstract class and its functions are italicized.\n",
    "- Using Store instances is a weak dependency, marked with dashed line.\n",
    "\n",
    "### Diagrams\n",
    "\n",
    "1. Class diagram<br><img src=\"https://github.com/hendraanggrian/IIT-ITM513/raw/assets/assignments/hw11/diagram1.svg\" width=\"640\">\n",
    "\n",
    "[View source](diagram.drawio)"
   ]
  },
  {
   "cell_type": "markdown",
   "id": "fc4a9490-23c5-4ba2-afd9-16a162570a8d",
   "metadata": {},
   "source": [
    "> Do not forget to implement the two abstract functions specified in the Store class within each of the classes mentioned above. As the developer, it is important to determine the best data types to be used for each of the attributes and the input and output for functionality being implemented within this class."
   ]
  },
  {
   "cell_type": "markdown",
   "id": "b00a051d-ed0d-465d-b93a-fe8422d3fbbd",
   "metadata": {},
   "source": [
    "## Learning report\n",
    "\n",
    "> Using Microsoft Word, write a summary report (not a bullet item) with a minimum of 100 words explaining how you completed your assignment. *Please describe your responses, not just yes/no answers.*\n",
    "\n",
    "[View report](https://github.com/hendraanggrian/IIT-ITM513/releases/download/hw11/report.pdf) /\n",
    "[source](report.md)"
   ]
  }
 ],
 "metadata": {
  "kernelspec": {
   "display_name": "Python 3 (ipykernel)",
   "language": "python",
   "name": "python3"
  },
  "language_info": {
   "codemirror_mode": {
    "name": "ipython",
    "version": 3
   },
   "file_extension": ".py",
   "mimetype": "text/x-python",
   "name": "python",
   "nbconvert_exporter": "python",
   "pygments_lexer": "ipython3",
   "version": "3.11.7"
  }
 },
 "nbformat": 4,
 "nbformat_minor": 5
}
