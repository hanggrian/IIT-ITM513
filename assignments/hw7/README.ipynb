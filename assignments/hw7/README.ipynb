{
 "cells": [
  {
   "cell_type": "markdown",
   "id": "07240ea9-108b-4dfd-8b9c-547ca0524c64",
   "metadata": {},
   "source": [
    "# [Homework 7](https://github.com/hendraanggrian/IIT-ITM513/blob/assets/assignments/hw7.pdf)\n",
    "\n",
    "> The focus of this assignment is Data Science. There are various approaches to Data Science in Python programming. This assignment emphasizes using the NumPy Python library.\n",
    ">\n",
    "> You may have to install the Python NumPy package if necessary. You can use the command pip (for Windows) or pip3 (for macOS) to install NumPy. You can also use the command; py -m pip install NumPy"
   ]
  },
  {
   "cell_type": "markdown",
   "id": "af17cd42-5fa8-4c1a-a458-823881c09f03",
   "metadata": {},
   "source": [
    "## Problem 1\n",
    "\n",
    "> (INDEXING AND SLICING ARRAYS) Create an array containing the values 1–15, reshape it into a 3-by-5 array, then use indexing and slicing techniques to perform each of the following operations:\n",
    ">\n",
    "> 1. Select row 2.\n",
    "> 2. Select column 4.\n",
    "> 3. Select rows 0 and 1.\n",
    "> 4. Select columns 2–4.\n",
    "> 5. Select the element that is in row 1 and column 4.\n",
    "> 6. Select all elements from rows 1 and 2 that are in columns 0, 2 and 4.\n",
    "\n",
    "- \n",
    "\n",
    "### Screenshots\n",
    "\n",
    "1. "
   ]
  },
  {
   "cell_type": "code",
   "execution_count": null,
   "id": "9c821a9d-a901-48ed-808d-3c04513d8a8c",
   "metadata": {},
   "outputs": [],
   "source": []
  },
  {
   "cell_type": "markdown",
   "id": "50eed5aa-7a66-4302-8f54-0449eff7eed6",
   "metadata": {},
   "source": [
    "## Problem 2\n",
    "\n",
    "> For this question, please use the NumPy Python library. Make sure you have installed NumPy, Pandas, SciPy, and Matplotlib Python libraries. Use command pip (for Windows) or pip3 (for MacOS).\n",
    ">\n",
    "> Write a program to load a given dataset called `student_grades.csv` into a NumPy array. Then determine the following items:\n",
    ">\n",
    "> 1. Display all data on screen.\n",
    "> 2. Determine how many students were in the dataset?\n",
    "> 3. Display the number of rows and columns of your numpy array.\n",
    "> 4. Display the array data types.\n",
    "> 5. Display the following Descriptive Statistics of students’ overall percentage scores:\n",
    ">    1. Min score\n",
    ">    2. Max score\n",
    ">    3. Mean value\n",
    ">    4. Median\n",
    ">    5. Mode\n",
    ">    6. Standard Deviation\n",
    ">    7. 25% and 75% percentile\n",
    "> 6. Determine how many students achieved an A grade, B, C, D and F grades.\n",
    "> 7. Create a pie chart based on the above grade achievements (option f).\n",
    ">\n",
    "> The following is a sample of Question \\#2 program output:\n",
    ">\n",
    "> ```\n",
    "> Display data\n",
    "> [[ 15. 50. 50. ... 207. 1442. 94.1868 ]\n",
    ">  [ 15. 50. 50. ... 197. 1322. 86.34879]\n",
    ">  [ 15. 50. 50. ... 210. 1510. 98.62834]\n",
    ">  ...\n",
    ">  [ 15. 50. 50. ... 200. 1374. 89.74526]\n",
    ">  [ 15. 50. 50. ... 195. 1287. 84.0627 ]\n",
    ">  [ 15. 50. 50. ... 210. 1490. 97.32201]]\n",
    ">\n",
    "> There are 33 students\n",
    ">\n",
    "> Display numbers of rows and columns\n",
    "> (33, 32)\n",
    ">\n",
    "> Display data type\n",
    "> float64\n",
    ">\n",
    "> Descriptive Statistics ...\n",
    ">     Min overall score: 29.65382\n",
    ">     Max overall score: 99.86936\n",
    ">     Mean: 87.66996787878789\n",
    ">     Median: 92.88047\n",
    ">     Std. Dev.: 15.553686425410683\n",
    ">     Percentile (25%, 75%): [87.1979 96.73416]\n",
    ">\n",
    "> Number of students achieved in each grade category:\n",
    "> 21 A\n",
    "> 8 B\n",
    "> 1 C\n",
    "> 1 D\n",
    "> 2 F\n",
    "> ```\n",
    ">\n",
    "> ![](https://github.com/hendraanggrian/IIT-ITM513/raw/assets/assignments/hw7_1.png)\n",
    "\n",
    "- \n",
    "\n",
    "### Screenshots\n",
    "\n",
    "1. "
   ]
  },
  {
   "cell_type": "code",
   "execution_count": null,
   "id": "4193444d-fe16-4b58-bd29-7c2c6cc401a2",
   "metadata": {},
   "outputs": [],
   "source": []
  },
  {
   "cell_type": "markdown",
   "id": "d8a4bfb9-1916-4c8f-ad70-43ac1f4c4658",
   "metadata": {},
   "source": [
    "## Report Summary\n",
    "\n",
    "> Using Microsoft Word, write a summary report (not a bullet item) with a minimum of 100 words explaining how you completed your assignment. Please describe your responses, not just yes/no answers.\n",
    "> \n",
    "> 1. Did you successfully get your assignment done? Did it run? Any error? Did you get the correct result? Did you test your program thoroughly?\n",
    "> 2. How much time did you spend completing your assignment?\n",
    "> 3. Did you find the assignment easy or challenging for you?\n",
    "> 4. Did you write the program yourself? Did you get any help from anyone?\n",
    "> 5. When you encountered obstacles to completing your program, how did you resolve the issues? Did you use Google to get help? Describe how Google was able or not able to assist you?\n",
    "> 6. What did you learn from doing this assignment?\n",
    "> 7. Any other information you would like to share with your instructor? Make sure you provide program output on each option."
   ]
  }
 ],
 "metadata": {
  "kernelspec": {
   "display_name": "Python 3 (ipykernel)",
   "language": "python",
   "name": "python3"
  },
  "language_info": {
   "codemirror_mode": {
    "name": "ipython",
    "version": 3
   },
   "file_extension": ".py",
   "mimetype": "text/x-python",
   "name": "python",
   "nbconvert_exporter": "python",
   "pygments_lexer": "ipython3",
   "version": "3.11.5"
  }
 },
 "nbformat": 4,
 "nbformat_minor": 5
}
