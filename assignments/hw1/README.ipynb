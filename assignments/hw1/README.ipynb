{
 "cells": [
  {
   "cell_type": "markdown",
   "id": "b657c8f0-51e5-4226-b7d0-f50e9c20e362",
   "metadata": {},
   "source": [
    "# [Homework 1](https://github.com/hendraanggrian/IIT-ITM513/blob/assets/assignments/hw1.pdf): Python Simple IO and Control Structures\n",
    "\n",
    "> The statements inside your computer programs are generally executed from top to bottom, in the order that they appear. Control flow statements, however, break up the flow of execution by employing decision-making, looping, and branching, enabling your program to conditionally execute particular blocks of code. The assignments below will take advantage of the control flow concepts in programming."
   ]
  },
  {
   "cell_type": "markdown",
   "id": "91b3a610-00a7-4708-8fee-5c35285b5cc8",
   "metadata": {},
   "source": [
    "## Problem 1\n",
    "\n",
    "> *(Geometry: area of a regular polygon)* A regular polygon is an $n$-sided polygon in which all sides are of the same length and all angles have the same degree (i.e., the polygon is both equilateral and equiangular). The formula for computing the area of a regular polygon is\n",
    ">\n",
    "> $$\n",
    "  Area = \\frac{n \\times s^2}{4 \\times \\tan(\\pi / n)}\n",
    "  $$\n",
    ">\n",
    "> Here, $\\bf \\color{blue} s$ is the length of a side. Write a program that prompts the user to enter the number of sides and their length of a regular polygon and display its area. Here is a sample run:\n",
    ">\n",
    "> ```\n",
    "> Enter the number of sides: 5 [↵ Enter]\n",
    "> Enter the side: 6.5 [↵ Enter]\n",
    "> The area of the polygon is 73.69017017488385\n",
    "> ```\n",
    ">\n",
    "> *Import the math library package in your program and modify the output to print the result to four decimal points only i.e. to 73.6902*.\n",
    "\n",
    "- Recursively ask for input until correct with `prompts.py`.\n",
    "- With `math.py`, calculate using the given formula.\n",
    "- Print formatted result.\n",
    "\n",
    "### Screenshots\n",
    "\n",
    "1. Main interface<br><img src=\"https://github.com/hendraanggrian/IIT-ITM513/raw/assets/assignments/hw1/screenshot1_1.png\" width=\"480\">\n",
    "2. Safeguarding measures<br><img src=\"https://github.com/hendraanggrian/IIT-ITM513/raw/assets/assignments/hw1/screenshot1_2.png\" width=\"480\">"
   ]
  },
  {
   "cell_type": "code",
   "execution_count": null,
   "id": "76fe9b0c-cf1d-4813-bfd2-c8521193e448",
   "metadata": {},
   "outputs": [],
   "source": [
    "%load polygon.py"
   ]
  },
  {
   "cell_type": "code",
   "execution_count": null,
   "id": "a97aa9ba-70d2-43f3-9d01-411e330fe39d",
   "metadata": {},
   "outputs": [],
   "source": [
    "%load polygon_cli.py"
   ]
  },
  {
   "cell_type": "code",
   "execution_count": null,
   "id": "b3f869b4-9e06-48f1-9ebd-8bedd1b12cb4",
   "metadata": {},
   "outputs": [],
   "source": [
    "%load test_polygon.py"
   ]
  },
  {
   "cell_type": "markdown",
   "id": "36ca8f36-0771-4d36-bc38-36cbb7fd1ec6",
   "metadata": {},
   "source": [
    "## Problem 2\n",
    "\n",
    "> Observe the Troubleshooting Chart for Diesel Engine below. Write a program based on the given chart. Make sure your program validates the input data. For example, the value 50x is invalid, it should be 50. The program should allow the user to run the test again until the user chooses to exit.\n",
    ">\n",
    "> ![](https://github.com/hendraanggrian/IIT-ITM513/raw/assets/assignments/hw1_1.png)\n",
    "\n",
    "- Re-use `prompts.py`.\n",
    "- Utilize newer [match statement](https://docs.python.org/3/whatsnew/3.10.html).\n",
    "- Run recursively until the user chooses quit (or force exit).\n",
    "\n",
    "### Screenshots\n",
    "\n",
    "1. Main interface<br><img src=\"https://github.com/hendraanggrian/IIT-ITM513/raw/assets/assignments/hw1/screenshot2_1.png\" width=\"480\">\n",
    "2. Safeguarding measures<br><img src=\"https://github.com/hendraanggrian/IIT-ITM513/raw/assets/assignments/hw1/screenshot2_2.png\" width=\"480\">"
   ]
  },
  {
   "cell_type": "code",
   "execution_count": null,
   "id": "42b78de2-cc06-4205-9556-4affface2c57",
   "metadata": {},
   "outputs": [],
   "source": [
    "%load troubleshooting_cli.py"
   ]
  },
  {
   "cell_type": "markdown",
   "id": "b00a051d-ed0d-465d-b93a-fe8422d3fbbd",
   "metadata": {},
   "source": [
    "## Learning Report\n",
    "\n",
    "> Using Microsoft Word or any text editor, answer the following questions. Please describe your answers and do not simply say yes/no. Please include the questions too when answering them.\n",
    "\n",
    "[View report](https://github.com/hendraanggrian/IIT-ITM513/releases/download/hw1/report.pdf) /\n",
    "[source](https://github.com/hendraanggrian/IIT-ITM513/blob/main/assignments/hw1/report.md)"
   ]
  }
 ],
 "metadata": {
  "kernelspec": {
   "display_name": "Python 3 (ipykernel)",
   "language": "python",
   "name": "python3"
  },
  "language_info": {
   "codemirror_mode": {
    "name": "ipython",
    "version": 3
   },
   "file_extension": ".py",
   "mimetype": "text/x-python",
   "name": "python",
   "nbconvert_exporter": "python",
   "pygments_lexer": "ipython3",
   "version": "3.11.5"
  }
 },
 "nbformat": 4,
 "nbformat_minor": 5
}
