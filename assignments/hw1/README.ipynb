{
 "cells": [
  {
   "cell_type": "markdown",
   "id": "b657c8f0-51e5-4226-b7d0-f50e9c20e362",
   "metadata": {},
   "source": [
    "# [Homework 1](https://github.com/hendraanggrian/IIT-ITM513/blob/assets/assignments/hw1_1.pdf): Python Simple IO and Control Structures\n",
    "\n",
    "> The statements inside your computer programs are generally executed from top to bottom, in the order that they appear. Control flow statements, however, break up the flow of execution by employing decision-making, looping, and branching, enabling your program to conditionally execute particular blocks of code. The assignments below will take advantage of the control flow concepts in programming."
   ]
  },
  {
   "cell_type": "markdown",
   "id": "91b3a610-00a7-4708-8fee-5c35285b5cc8",
   "metadata": {},
   "source": [
    "## Problem 1\n",
    "\n",
    "> *(Geometry: area of a regular polygon)* A regular polygon is an $n$-sided polygon in which all sides are of the same length and all angles have the same degree (i.e., the polygon is both equilateral and equiangular). The formula for computing the area of a regular polygon is\n",
    ">\n",
    "> $$\n",
    "  Area = \\frac{n \\times s^2}{4 \\times \\tan(\\pi / n)}\n",
    "  $$\n",
    ">\n",
    "> Here, $\\bf \\color{blue} s$ is the length of a side. Write a program that prompts the user to enter the number of sides and their length of a regular polygon and display its area. Here is a sample run:\n",
    ">\n",
    "> ```\n",
    "> Enter the number of sides: 5 [↵ Enter]\n",
    "> Enter the side: 6.5 [↵ Enter]\n",
    "> The area of the polygon is 73.69017017488385\n",
    "> ```\n",
    ">\n",
    "> *Import the math library package in your program and modify the output to print the result to four decimal points only i.e. to 73.6902*.\n",
    "\n",
    "- Recursively ask for input until correct with `prompts.py`.\n",
    "- With `math.py`, calculate using the given formula.\n",
    "- Print formatted result.\n",
    "\n",
    "### Screenshots\n",
    "\n",
    "1. Main interface<br><img src=\"https://github.com/hendraanggrian/IIT-ITM513/raw/assets/assignments/hw1/screenshot1_1.png\" width=\"640\">\n",
    "2. Safeguarding measures<br><img src=\"https://github.com/hendraanggrian/IIT-ITM513/raw/assets/assignments/hw1/screenshot1_2.png\" width=\"640\">"
   ]
  },
  {
   "cell_type": "code",
   "execution_count": null,
   "id": "76fe9b0c-cf1d-4813-bfd2-c8521193e448",
   "metadata": {},
   "outputs": [],
   "source": [
    "%load src/polygon.py"
   ]
  },
  {
   "cell_type": "code",
   "execution_count": null,
   "id": "a97aa9ba-70d2-43f3-9d01-411e330fe39d",
   "metadata": {},
   "outputs": [],
   "source": [
    "%load src/polygon_cli.py"
   ]
  },
  {
   "cell_type": "code",
   "execution_count": null,
   "id": "b3f869b4-9e06-48f1-9ebd-8bedd1b12cb4",
   "metadata": {},
   "outputs": [],
   "source": [
    "%load tests/test_polygon.py"
   ]
  },
  {
   "cell_type": "markdown",
   "id": "36ca8f36-0771-4d36-bc38-36cbb7fd1ec6",
   "metadata": {},
   "source": [
    "## Problem 2\n",
    "\n",
    "> Observe the Troubleshooting Chart for Diesel Engine below. Write a program based on the given chart. Make sure your program validates the input data. For example, the value 50x is invalid, it should be 50. The program should allow the user to run the test again until the user chooses to exit.\n",
    ">\n",
    "> ![](https://github.com/hendraanggrian/IIT-ITM513/raw/assets/assignments/hw1_1_1.png)\n",
    "\n",
    "- Re-use `prompts.py`.\n",
    "- Utilize newer [match statement](https://docs.python.org/3/whatsnew/3.10.html).\n",
    "- Run recursively until the user chooses quit (or force exit).\n",
    "\n",
    "### Screenshots\n",
    "\n",
    "1. Main interface<br><img src=\"https://github.com/hendraanggrian/IIT-ITM513/raw/assets/assignments/hw1/screenshot2_1.png\" width=\"640\">\n",
    "2. Safeguarding measures<br><img src=\"https://github.com/hendraanggrian/IIT-ITM513/raw/assets/assignments/hw1/screenshot2_2.png\" width=\"640\">"
   ]
  },
  {
   "cell_type": "code",
   "execution_count": null,
   "id": "42b78de2-cc06-4205-9556-4affface2c57",
   "metadata": {},
   "outputs": [],
   "source": [
    "%load src/troubleshooting_cli.py"
   ]
  },
  {
   "cell_type": "markdown",
   "id": "b00a051d-ed0d-465d-b93a-fe8422d3fbbd",
   "metadata": {},
   "source": [
    "## Report Summary\n",
    "\n",
    "> **1.** Did you complete your assignment and did your program run without errors?\n",
    "\n",
    "I finished the assignment and the final program ran without errors.\n",
    "\n",
    "> **2.** Did your program produce the correct result?\n",
    "\n",
    "I believe so. This was not immediately clear because *Problem 1* expects `73.6902` as the correct output while my program produced `72.6902`. However, I am certain that the solution is correct after confirming the result with [Regular Polygon Calculator](https://www.calculatorsoup.com/calculators/geometry-plane/polygon.php).\n",
    "\n",
    "> **3.** Did you test your program thoroughly?\n",
    "\n",
    "Yes, the unit test files are included in the `tests` directory.\n",
    "\n",
    "> **4.** How much time did you spend completing your assignment?\n",
    "\n",
    "Being new to Python programming, I spent an entire day learning about control flows, code conventions, and other official documentation before completing the assignment at the end of the day.\n",
    "\n",
    "> **5.** Did you write the program yourself? Did you get any help from anyone?\n",
    "\n",
    "I wrote the program myself with the help of online resources such as [Python documentation](https://docs.python.org/3/) and [StackOverflow](https://stackoverflow.com/).\n",
    "\n",
    "> **6.** How did you resolve the issues when you encountered obstacles to completing your program? Did you use Google or other resources to get help? Describe how Google or other resources was abled or not able to assist you.\n",
    "\n",
    "When experiencing an issue in programming, online resources (Google, GitHub, etc.) are extremely valuable as they often expose insights previously inaccessible to me. In some cases where I am unable to resolve it myself, I will open a ticket inviting others to solve my specific problem.\n",
    "\n",
    "> **7.** What did you learn from doing this assignment?\n",
    "\n",
    "The most valuable lesson for me is learning how to use Jupyter Notebook, as recommended by the Python community. I learned that Jupyter is a more powerful notation tool than Markdown and should be the standard when developing Python projects.\n",
    "\n",
    "> **8.** Any other information you would like to share with your instructor?\n",
    "\n",
    "I would like to thank you for sharing all assignments ahead of time. This lets me see more code samples and also forces me to use Jupyter Notebook early."
   ]
  }
 ],
 "metadata": {
  "kernelspec": {
   "display_name": "Python 3 (ipykernel)",
   "language": "python",
   "name": "python3"
  },
  "language_info": {
   "codemirror_mode": {
    "name": "ipython",
    "version": 3
   },
   "file_extension": ".py",
   "mimetype": "text/x-python",
   "name": "python",
   "nbconvert_exporter": "python",
   "pygments_lexer": "ipython3",
   "version": "3.12.1"
  }
 },
 "nbformat": 4,
 "nbformat_minor": 5
}
