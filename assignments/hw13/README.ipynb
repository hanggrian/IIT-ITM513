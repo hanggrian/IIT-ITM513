{
 "cells": [
  {
   "cell_type": "markdown",
   "id": "b657c8f0-51e5-4226-b7d0-f50e9c20e362",
   "metadata": {},
   "source": [
    "# [Homework 13](https://github.com/hendraanggrian/IIT-ITM513/blob/assets/assignments/hw13.pdf): Machine learning\n",
    "\n",
    "> Please keep in mind that Machine Learning (ML) is an entire course by itself. This segment covers the overview of ML in the hope that you can comprehend the subject matter and be able to explore more on your own.\n",
    "> \n",
    "> Please read chapter 15 of the class textbook and practice the example programs given in the chapter to get a better understanding of the subject."
   ]
  },
  {
   "cell_type": "markdown",
   "id": "91b3a610-00a7-4708-8fee-5c35285b5cc8",
   "metadata": {},
   "source": [
    "## Problem 1\n",
    "\n",
    "> 1.  Explain what is Machine Learning? How does it work? What does it do?\n",
    "> 1.  There are three types of Machine Learning Algorithms; Supervised Learning, Unsupervised Learning, and Reinforcement Learning? Describe each one of them and provide some examples on each algorithm.\n",
    "\n",
    "[View essay](https://github.com/hendraanggrian/IIT-ITM513/releases/download/hw13/essay.pdf) /\n",
    "[source](essay.md)"
   ]
  },
  {
   "cell_type": "markdown",
   "id": "36ca8f36-0771-4d36-bc38-36cbb7fd1ec6",
   "metadata": {},
   "source": [
    "## Problem 2\n",
    "\n",
    "> The following exercises shown below are taken from your textbook on chapter 15. Please complete the exercise. The dataset for exercise 1 is available on class blackboard.\n",
    ">\n",
    "> 1. **(SEABORN `PAIRPLOT` GRAPH)** Create a seaborn `pairplot` graph (like we showed for Iris) for the California Housing dataset. Try the Matplotlib features for panning and zooming the diagram. These are accessible via the icons in the Matplotlib window.\n",
    "> 2. **(SIMPLE LINEAR REGRESSION WITH AVERAGE YEARNLY NYC TEMPERATURES TIME SERIES)** Go to [NOAA's Climate at a Glance page](https://www.ncdc.noaa.gov/cag) and download the available time series data for the New York City average *annual* temperatures from 1895 through present (1895-2017 at the time of this writing). For your convenience, we provided the data in the file `ave_yearly_temp_nyc_1895-2017.csv`. Reimplement the simple linear regression case study of **Section 1** using the average yearly temperature data. How does the temperature trend compare to the average January high temperatures?\n",
    "\n",
    "- Fetch data from `sklearn` package and display pair plot accordingly.\n",
    "- Read CSV file using `pandas` and present data in scatter plot.\n",
    "- Predict and draw a line regression using distinctive color.\n",
    "\n",
    "### Screenshots\n",
    "\n",
    "1.  California housing pair plot<br><img src=\"https://github.com/hendraanggrian/IIT-ITM513/raw/assets/assignments/hw13/screenshot1.png\" width=\"640\">\n",
    "1.  NYC temperature linear regression<br><img src=\"https://github.com/hendraanggrian/IIT-ITM513/raw/assets/assignments/hw13/screenshot2.png\" width=\"480\">"
   ]
  },
  {
   "cell_type": "code",
   "execution_count": null,
   "id": "42b78de2-cc06-4205-9556-4affface2c57",
   "metadata": {},
   "outputs": [],
   "source": [
    "%load california_housing_pair.py"
   ]
  },
  {
   "cell_type": "code",
   "execution_count": null,
   "id": "32c4ce8c",
   "metadata": {},
   "outputs": [],
   "source": [
    "%load nyc_temperature_scatter.py"
   ]
  },
  {
   "cell_type": "markdown",
   "id": "b00a051d-ed0d-465d-b93a-fe8422d3fbbd",
   "metadata": {},
   "source": [
    "## Learning report\n",
    "\n",
    "> Using Microsoft Word, write a summary report (not a bullet item) with a minimum of 100 words explaining how you completed your assignment. *Please describe your responses, not just yes/no answers.*\n",
    "\n",
    "[View report](https://github.com/hendraanggrian/IIT-ITM513/releases/download/hw13/report.pdf) /\n",
    "[source](report.md)"
   ]
  }
 ],
 "metadata": {
  "kernelspec": {
   "display_name": "Python 3 (ipykernel)",
   "language": "python",
   "name": "python3"
  },
  "language_info": {
   "codemirror_mode": {
    "name": "ipython",
    "version": 3
   },
   "file_extension": ".py",
   "mimetype": "text/x-python",
   "name": "python",
   "nbconvert_exporter": "python",
   "pygments_lexer": "ipython3",
   "version": "3.11.7"
  }
 },
 "nbformat": 4,
 "nbformat_minor": 5
}
