{
 "cells": [
  {
   "cell_type": "markdown",
   "id": "b657c8f0-51e5-4226-b7d0-f50e9c20e362",
   "metadata": {},
   "source": [
    "# [Homework 14](https://github.com/hendraanggrian/IIT-ITM513/blob/assets/assignments/hw14.pdf): Big data\n",
    "\n",
    "> Big Data is another topic in Data Science where it is a course by itself. Big Data is applied to disclose hidden patterns, market inclinations and consumer preferences, for the benefit of organizational decision making.\n",
    ">\n",
    "> Chapter 17 of the textbook used in our class includes and demonstrates Big Data in various themes such as Database, Hadoop, Spark, and Internet of Things. There are multiple exercises available in the textbook that we can delve into to practice further. In this assignment, we will choose one of the given themes mentioned and recruit our best exertion to understand Big Data in the hope that we can comprehend the subject matter and be able to explore more on our own at a later time.\n",
    "> \n",
    "> Please make sure to watch the two short videos on Big Data listed on the class blackboard.\n",
    ">\n",
    "> Please read chapter 17 of the class textbook and practice some of the example programs given in the chapter on your own to get a better understanding of the subject matter."
   ]
  },
  {
   "cell_type": "markdown",
   "id": "91b3a610-00a7-4708-8fee-5c35285b5cc8",
   "metadata": {},
   "source": [
    "## Problem 1\n",
    "\n",
    "> Write a paper explaining what is Big Data? Why is Big Data important? What are the types of Big Data? An industry analyst Doug Laney articulated the now-mainstream definition of Big Data as the three V’s. Explain what are the three V’s.\n",
    "\n",
    "[View essay](https://github.com/hendraanggrian/IIT-ITM513/releases/download/hw14/essay.pdf) /\n",
    "[source](essay.md)"
   ]
  },
  {
   "cell_type": "markdown",
   "id": "36ca8f36-0771-4d36-bc38-36cbb7fd1ec6",
   "metadata": {},
   "source": [
    "## Problem 2\n",
    "\n",
    "> Do the given exercise on section 17.2 of chapter 17 of your textbook. Before you start the exercise, create a directory called ch17 on your computer. Copy the two files; `books.db` and `books.sql` given on the blackboard into directory ch17 that you have just created. Follow the instruction on section 17.2. Store your program and the program output into your computer.\n",
    "\n",
    "- Establish connection with pre-defined a database.\n",
    "- Fetch all data to get column information.\n",
    "- Pretty-print table with 2 spaces divider.\n",
    "\n",
    "### Screenshots\n",
    "\n",
    "1.  Main interface<br><img src=\"https://github.com/hendraanggrian/IIT-ITM513/raw/assets/assignments/hw14/screenshot1.png\" width=\"480\">"
   ]
  },
  {
   "cell_type": "code",
   "execution_count": null,
   "id": "8096a860",
   "metadata": {},
   "outputs": [],
   "source": [
    "%load books_cursor.py"
   ]
  },
  {
   "cell_type": "markdown",
   "id": "703bb73a-8973-4e0b-804a-8c266f3d3b65",
   "metadata": {},
   "source": [
    "## Problem 3\n",
    "\n",
    "> Complete and submit exercise #17.1 (Books Database) listed on page 799. The exercise stated that you use iPython to write the program. Unless you want to explore on how to use Jupyter Notebook (highly recommended, check your textbook), you have to write a program and save it into a file instead of using iPython.\n",
    "\n",
    "- Establish connection with existing database.\n",
    "- Directly execute command and iterate results.\n",
    "- Distinguish between selection or selection in command execution.\n",
    "\n",
    "### Screenshots\n",
    "\n",
    "1.  Main interface<br><img src=\"https://github.com/hendraanggrian/IIT-ITM513/raw/assets/assignments/hw14/screenshot2_1.png\" width=\"480\">\n",
    "1.  Safeguarding measures<br><img src=\"https://github.com/hendraanggrian/IIT-ITM513/raw/assets/assignments/hw14/screenshot2_2.png\" width=\"480\">"
   ]
  },
  {
   "cell_type": "code",
   "execution_count": null,
   "id": "b427a461",
   "metadata": {},
   "outputs": [],
   "source": [
    "%load books_operations.py"
   ]
  },
  {
   "cell_type": "markdown",
   "id": "b00a051d-ed0d-465d-b93a-fe8422d3fbbd",
   "metadata": {},
   "source": [
    "## Learning report\n",
    "\n",
    "> Using Microsoft Word, write a summary report (not a bullet item) with a minimum of 100 words explaining how you completed your assignment. *Please describe your responses, not just yes/no answers.*\n",
    "\n",
    "[View report](https://github.com/hendraanggrian/IIT-ITM513/releases/download/hw14/report.pdf) /\n",
    "[source](report.md)"
   ]
  }
 ],
 "metadata": {
  "kernelspec": {
   "display_name": "Python 3 (ipykernel)",
   "language": "python",
   "name": "python3"
  },
  "language_info": {
   "codemirror_mode": {
    "name": "ipython",
    "version": 3
   },
   "file_extension": ".py",
   "mimetype": "text/x-python",
   "name": "python",
   "nbconvert_exporter": "python",
   "pygments_lexer": "ipython3",
   "version": "3.11.7"
  }
 },
 "nbformat": 4,
 "nbformat_minor": 5
}
