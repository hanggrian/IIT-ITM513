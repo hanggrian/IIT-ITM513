{
 "cells": [
  {
   "cell_type": "markdown",
   "id": "07240ea9-108b-4dfd-8b9c-547ca0524c64",
   "metadata": {},
   "source": [
    "# [Homework 4](https://github.com/hendraanggrian/IIT-ITM513/blob/assets/assignments/hw4.pdf): Graphs with Matplotlib\n",
    "\n",
    "> A picture is worth a thousand words, and with Python's matplotlib library, fortunately, takes far less than a thousand words of code to create a production-quality graphic. Matplotlib is the brainchild of John Hunter (1968-2012), who, along with its many contributors, have put an immeasurable amount of time and effort into producing a piece of software utilized by thousands of scientists worldwide. Learning matplotlib can be a frustrating process at times. The problem is not that matplotlib's documentation is lacking: the documentation is actually extensive.\n",
    ">\n",
    "> Using the library Matplotlib and the provided data files create the following graphs. Your program should open and read the given data files and carefully collect the data and plot the graphs.\n",
    ">\n",
    "> **Please use Jupyter Notebook to complete this assignment.**"
   ]
  },
  {
   "cell_type": "markdown",
   "id": "af17cd42-5fa8-4c1a-a458-823881c09f03",
   "metadata": {},
   "source": [
    "## Problem 1: Pie Chart\n",
    "\n",
    "> Create a pie chart that shows the percentage of employees in each department within a company. The provided file: `employee_count_by_department.txt` contains the data required in order to generate this pie chart.\n",
    ">\n",
    "> Below shows what the output of the program should look like:\n",
    ">\n",
    "> ![](https://github.com/hendraanggrian/IIT-ITM513/raw/assets/assignments/hw4_1.png)\n",
    "\n",
    "- Build a dictionary from a text file using `reader.py`\n",
    "- Pair percentage with value in pie wedge.\n",
    "- Lower label font size of pie wedge.\n",
    "\n",
    "### Screenshots\n",
    "\n",
    "1. Figure<br><img src=\"https://github.com/hendraanggrian/IIT-ITM513/raw/assets/assignments/hw4/screenshot1.png\" width=\"640\">"
   ]
  },
  {
   "cell_type": "code",
   "execution_count": null,
   "id": "9c821a9d-a901-48ed-808d-3c04513d8a8c",
   "metadata": {},
   "outputs": [],
   "source": [
    "%load reader.py"
   ]
  },
  {
   "cell_type": "code",
   "execution_count": null,
   "id": "08c669b6-1e7a-46b3-b6b9-9c936fce7811",
   "metadata": {},
   "outputs": [],
   "source": [
    "%load employee_count.py"
   ]
  },
  {
   "cell_type": "code",
   "execution_count": null,
   "id": "8596ee73-bc58-4f63-8844-2990181e1503",
   "metadata": {},
   "outputs": [],
   "source": [
    "%load test_reader.py"
   ]
  },
  {
   "cell_type": "markdown",
   "id": "50eed5aa-7a66-4302-8f54-0449eff7eed6",
   "metadata": {},
   "source": [
    "## Problem 2: Line Graph\n",
    "\n",
    "> Create a line graph that shows a company’s profit over the past ten years. The provided file: `last_ten_year_net_profit.txt` contains the data required in order to generate this line graph.\n",
    ">\n",
    "> Below shows what the output of the program should look like:\n",
    ">\n",
    "> ![](https://github.com/hendraanggrian/IIT-ITM513/raw/assets/assignments/hw4_2.png)\n",
    "\n",
    "- Re-use `reader.py`.\n",
    "- Complete horizontal ticks using minimum and maximum values from the dictionary.\n",
    "- Show grid layout.\n",
    "\n",
    "### Screenshots\n",
    "\n",
    "1. Figure<br><img src=\"https://github.com/hendraanggrian/IIT-ITM513/raw/assets/assignments/hw4/screenshot2.png\" width=\"640\">"
   ]
  },
  {
   "cell_type": "code",
   "execution_count": null,
   "id": "4193444d-fe16-4b58-bd29-7c2c6cc401a2",
   "metadata": {},
   "outputs": [],
   "source": [
    "%load last_ten_year_line.py"
   ]
  },
  {
   "cell_type": "markdown",
   "id": "7bdc70af",
   "metadata": {},
   "source": [
    "## Problem 3: Bar Graph\n",
    "\n",
    "> Create a bar graph that shows a company’s profit over the past ten years. The provided file: `last_ten_year_net_profit.txt` contains the data required in order to generate this bar graph.\n",
    ">\n",
    "> Below shows what the output of the program should look like:\n",
    ">\n",
    "> ![](https://github.com/hendraanggrian/IIT-ITM513/raw/assets/assignments/hw4_3.png)\n",
    "\n",
    "- Re-use `reader.py`.\n",
    "- Complete horizontal ticks using minimum and maximum values from the dictionary.\n",
    "\n",
    "### Screenshots\n",
    "\n",
    "1. Figure<br><img src=\"https://github.com/hendraanggrian/IIT-ITM513/raw/assets/assignments/hw4/screenshot3.png\" width=\"640\">"
   ]
  },
  {
   "cell_type": "markdown",
   "id": "a7b1aa6b",
   "metadata": {},
   "source": [
    "> **Info:** Be sure to label all the axes of each graph with meaningful labels and provide an appropriate title to each of the graphs (mentioned above) being generated. Hint, the names of the files and the headers provided in each of the data files should help."
   ]
  },
  {
   "cell_type": "code",
   "execution_count": null,
   "id": "b3e5ea60",
   "metadata": {},
   "outputs": [],
   "source": [
    "%load last_ten_year_bar.py"
   ]
  },
  {
   "cell_type": "markdown",
   "id": "d8a4bfb9-1916-4c8f-ad70-43ac1f4c4658",
   "metadata": {},
   "source": [
    "## Report Summary\n",
    "\n",
    "> **1.** Did you complete your assignment and did your program run without errors?\n",
    "\n",
    "My assignment is complete without error.\n",
    "\n",
    "> **2.** Did your program produce the correct result?\n",
    "\n",
    "My programs produced the same results as the expected images in the question sheet.\n",
    "\n",
    "> **3.** Did you test your program thoroughly?\n",
    "\n",
    "Yes, I tested my program using the given text files.\n",
    "\n",
    "> **4.** How much time did you spend completing your assignment?\n",
    "\n",
    "I spent roughly 4 hours studying [matplotlib](https://matplotlib.org/), [price-parser](https://github.com/scrapinghub/price-parser), and [typing](https://docs.python.org/3/library/typing.html) to complete the assignment.\n",
    "\n",
    "> **5.** Did you write the program yourself? Did you get any help from anyone?\n",
    "\n",
    "I wrote the solutions myself mostly using the well-documented [examples](https://matplotlib.org/stable/gallery/index.html) provided officially by the Matplotlib team.\n",
    "\n",
    "> **6.** How did you resolve the issues when you encountered obstacles to completing your program? Did you use Google or other resources to get help? Describe how Google or other resources was abled or not able to assist you.\n",
    "\n",
    "There was a moment when it felt like reading online resources was reaching its limit. I ended up making multiple flawed solutions just to see which one works. It's a personal reminder that sometimes brute force does work.\n",
    "\n",
    "> **7.** What did you learn from doing this assignment?\n",
    "\n",
    "Aside from gaining knowledge of matplotlib, I learned that like JavaScript, Python's map data structure (or dictionary) is essentially a JSON object. I also learn about more types such as `Callable`, `Any`, etc.\n",
    "\n",
    "> **8.** Any other information you would like to share with your instructor?\n",
    "\n",
    "I would like to express my observation of Anaconda distribution. Although I do enjoy the benefit of simple package management that is integrated directly into the Terminal, I have to say I disagree with their approach of including almost everything in the installation. This includes a code editor (*VSCode*), full-blown IDEs (*DataSpell* & *Spyder*), and GUI development kit (*Qt Console*), resulting in a whooping file size of **8GB**. In comparison, below are the file sizes of several popular SDKs and package managers.\n",
    "\n",
    "| Name | File Size |\n",
    "| --- | --- |\n",
    "| **Python** | 50MB |\n",
    "| Java Development Kit | 200MB (standard)<br>300MB (with JavaFX) |\n",
    "| Android SDK | 1GB (standard)<br>2GB (with system image & build tool) |\n",
    "| Unity | 2GB |\n",
    "| Node Package Manager | 50MB |\n",
    "| Homebrew for *macOS* | 1GB |\n",
    "\n",
    "Personally, it is difficult for me to justify the large file size over a standard Python installation with the default PIP package manager."
   ]
  }
 ],
 "metadata": {
  "kernelspec": {
   "display_name": "Python 3 (ipykernel)",
   "language": "python",
   "name": "python3"
  },
  "language_info": {
   "codemirror_mode": {
    "name": "ipython",
    "version": 3
   },
   "file_extension": ".py",
   "mimetype": "text/x-python",
   "name": "python",
   "nbconvert_exporter": "python",
   "pygments_lexer": "ipython3",
   "version": "3.11.5"
  }
 },
 "nbformat": 4,
 "nbformat_minor": 5
}
