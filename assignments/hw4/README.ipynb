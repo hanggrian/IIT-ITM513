{
 "cells": [
  {
   "cell_type": "markdown",
   "id": "07240ea9-108b-4dfd-8b9c-547ca0524c64",
   "metadata": {},
   "source": [
    "# [Homework 4](https://github.com/hendraanggrian/IIT-ITM513/blob/assets/assignments/hw4.pdf): Graphs with Matplotlib\n",
    "\n",
    "> A picture is worth a thousand words, and with Python's matplotlib library, fortunately, takes far less than a thousand words of code to create a production-quality graphic. Matplotlib is the brainchild of John Hunter (1968-2012), who, along with its many contributors, have put an immeasurable amount of time and effort into producing a piece of software utilized by thousands of scientists worldwide. Learning matplotlib can be a frustrating process at times. The problem is not that matplotlib's documentation is lacking: the documentation is actually extensive.\n",
    ">\n",
    "> Using the library Matplotlib and the provided data files create the following graphs. Your program should open and read the given data files and carefully collect the data and plot the graphs.\n",
    ">\n",
    "> **Please use Jupyter Notebook to complete this assignment.**"
   ]
  },
  {
   "cell_type": "markdown",
   "id": "af17cd42-5fa8-4c1a-a458-823881c09f03",
   "metadata": {},
   "source": [
    "## Problem 1: Pie Chart\n",
    "\n",
    "> Create a pie chart that shows the percentage of employees in each department within a company. The provided file: `employee_count_by_department.txt` contains the data required in order to generate this pie chart.\n",
    ">\n",
    "> Below shows what the output of the program should look like:\n",
    ">\n",
    "> ![](https://github.com/hendraanggrian/IIT-ITM513/raw/assets/assignments/hw4_1.png)\n",
    "\n",
    "- \n",
    "\n",
    "### Screenshots\n",
    "\n",
    "1. "
   ]
  },
  {
   "cell_type": "code",
   "execution_count": null,
   "id": "9c821a9d-a901-48ed-808d-3c04513d8a8c",
   "metadata": {},
   "outputs": [],
   "source": []
  },
  {
   "cell_type": "markdown",
   "id": "50eed5aa-7a66-4302-8f54-0449eff7eed6",
   "metadata": {},
   "source": [
    "## Problem 2: Line Graph\n",
    "\n",
    "> Create a line graph that shows a company’s profit over the past ten years. The provided file: `last_ten_year_net_profit.txt` contains the data required in order to generate this line graph.\n",
    ">\n",
    "> Below shows what the output of the program should look like:\n",
    ">\n",
    "> ![](https://github.com/hendraanggrian/IIT-ITM513/raw/assets/assignments/hw4_2.png)\n",
    "\n",
    "- \n",
    "\n",
    "### Screenshots\n",
    "\n",
    "1. "
   ]
  },
  {
   "cell_type": "code",
   "execution_count": null,
   "id": "4193444d-fe16-4b58-bd29-7c2c6cc401a2",
   "metadata": {},
   "outputs": [],
   "source": []
  },
  {
   "cell_type": "markdown",
   "id": "7bdc70af",
   "metadata": {},
   "source": [
    "## Problem 3: Bar Graph\n",
    "\n",
    "> Create a bar graph that shows a company’s profit over the past ten years. The provided file: `last_ten_year_net_profit.txt` contains the data required in order to generate this bar graph.\n",
    ">\n",
    "> Below shows what the output of the program should look like:\n",
    ">\n",
    "> ![](https://github.com/hendraanggrian/IIT-ITM513/raw/assets/assignments/hw4_3.png)\n",
    "\n",
    "- \n",
    "\n",
    "### Screenshots\n",
    "\n",
    "1. "
   ]
  },
  {
   "cell_type": "markdown",
   "id": "a7b1aa6b",
   "metadata": {},
   "source": [
    "> **Info:** Be sure to label all the axes of each graph with meaningful labels and provide an appropriate title to each of the graphs (mentioned above) being generated. Hint, the names of the files and the headers provided in each of the data files should help."
   ]
  },
  {
   "cell_type": "code",
   "execution_count": null,
   "id": "b3e5ea60",
   "metadata": {},
   "outputs": [],
   "source": []
  },
  {
   "cell_type": "markdown",
   "id": "d8a4bfb9-1916-4c8f-ad70-43ac1f4c4658",
   "metadata": {},
   "source": [
    "## Report Summary\n",
    "\n",
    "> **1.** Did you complete your assignment and did your program run without errors?\n",
    "\n",
    "> **2.** Did your program produce the correct result?\n",
    "\n",
    "> **3.** Did you test your program thoroughly?\n",
    "\n",
    "> **4.** How much time did you spend completing your assignment?\n",
    "\n",
    "> **5.** Did you write the program yourself? Did you get any help from anyone?\n",
    "\n",
    "> **6.** How did you resolve the issues when you encountered obstacles to completing your program? Did you use Google or other resources to get help? Describe how Google or other resources was abled or not able to assist you.\n",
    "\n",
    "> **7.** What did you learn from doing this assignment?\n",
    "\n",
    "> **8.** Any other information you would like to share with your instructor?"
   ]
  }
 ],
 "metadata": {
  "kernelspec": {
   "display_name": "Python 3 (ipykernel)",
   "language": "python",
   "name": "python3"
  },
  "language_info": {
   "codemirror_mode": {
    "name": "ipython",
    "version": 3
   },
   "file_extension": ".py",
   "mimetype": "text/x-python",
   "name": "python",
   "nbconvert_exporter": "python",
   "pygments_lexer": "ipython3",
   "version": "3.11.5"
  }
 },
 "nbformat": 4,
 "nbformat_minor": 5
}
