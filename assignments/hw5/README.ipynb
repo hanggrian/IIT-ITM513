{
 "cells": [
  {
   "cell_type": "markdown",
   "id": "07240ea9-108b-4dfd-8b9c-547ca0524c64",
   "metadata": {},
   "source": [
    "# [Homework 5](https://github.com/hendraanggrian/IIT-ITM513/blob/assets/assignments/hw5.pdf): Data structures - searching and sorting algorithms"
   ]
  },
  {
   "cell_type": "markdown",
   "id": "af17cd42-5fa8-4c1a-a458-823881c09f03",
   "metadata": {
    "jp-MarkdownHeadingCollapsed": true
   },
   "source": [
    "## Problem 1\n",
    "\n",
    "> Using Microsoft Word or any text editors, conduct research and write a paper (with a minimum of 150 words) to answer the following question. Please include references using the [APA format citation guide](https://www.mendeley.com/guides/apa-citation-guide).\n",
    ">\n",
    "> Describe what is sorting and searching, and why are they essential in a computer science field. Give two examples when sorting and searching are necessary for designing software applications. Describe three different types of existing sorting algorithms and two types of searching algorithms. Justify, compare and contrast your choice of sorting and searching algorithms.\n",
    "\n",
    "[View essay](https://github.com/hendraanggrian/IIT-ITM513/releases/download/hw5/essay.pdf) /\n",
    "[source](essay.md)"
   ]
  },
  {
   "cell_type": "markdown",
   "id": "50eed5aa-7a66-4302-8f54-0449eff7eed6",
   "metadata": {},
   "source": [
    "## Problem 2\n",
    "\n",
    "> There are various sorting algorithms available to sort data of different sizes. Three of these algorithms are Bubble sort, Shell sort, and Quicksort. Write a program to generate random integer numbers of multiple sizes; 10000, 30000, 50000, 70000, and 90000, and find out which of these sorting algorithms performs the fastest sorting technique. You can write the sorting program yourself or use an existing sorting program that you can find on the Internet and modify them to fit your need. Provide data to prove and support your findings by *plotting a line graph* showing the time each takes to sort data of various sizes. Please answer what can you conclude from your data visualization chart.\n",
    ">\n",
    "> _**Please note that your program will take time to complete the execution process due to the larger dataset handling.**_ The lesson here is to be aware of how significant it is to select the appropriate algorithm to complete a task to save time. Time is a luxury you and I do not have!\n",
    ">\n",
    "> Below is a sample code on how to time the sorting duration.\n",
    ">\n",
    "> ```python\n",
    "> import time\n",
    "> import random\n",
    "> \n",
    "> mylist = []\n",
    "> for i in range(0,10000): # create 10000 random numbers\n",
    ">     x = random.randint(1,10000) # ranges 1 to 10000\n",
    ">     mylist.append(x)\n",
    ">\n",
    "> start_time = time.time() # start the clock\n",
    "> sorting_method_function(mylist) # ← put your sorting method\n",
    "> stop_time = time.time() - start_time # stop the clock and calculate the time difference\n",
    "> print(\"--- the sort tool %s seconds ---\" % stop_time)\n",
    "> ```\n",
    ">\n",
    "> **NOTE:** Everything should be written in one program. If you wish, you may create a separate file for each sorting program as a function and import them into your main program.\n",
    ">\n",
    "> Below is a sample of the result of running the sorting comparison programs. Please be aware that the result depends on the random datasets created by the program. Your result may slightly be different.\n",
    ">\n",
    "> | | |\n",
    "> | --- | --- |\n",
    "> | ![](https://github.com/hendraanggrian/IIT-ITM513/raw/assets/assignments/hw5_1.png) | ![](https://github.com/hendraanggrian/IIT-ITM513/raw/assets/assignments/hw5_2.png) |\n",
    "> | ![](https://github.com/hendraanggrian/IIT-ITM513/raw/assets/assignments/hw5_3.png) |\n",
    "\n",
    "- Option to skip bubble sort, which massively cuts testing time.\n",
    "- Show all statistics with multiple figures in one window.\n",
    "- Customized sorting techniques in `sorting.py`.\n",
    "\n",
    "### Screenshots\n",
    "\n",
    "1. Main interface<br><img src=\"https://github.com/hendraanggrian/IIT-ITM513/raw/assets/assignments/hw5/screenshot2_1.png\" width=\"480\">\n",
    "2. Safeguarding measures<br><img src=\"https://github.com/hendraanggrian/IIT-ITM513/raw/assets/assignments/hw5/screenshot2_2.png\" width=\"480\">\n",
    "3. Displaying figures<br><img src=\"https://github.com/hendraanggrian/IIT-ITM513/raw/assets/assignments/hw5/screenshot2_3.png\" width=\"640\">"
   ]
  },
  {
   "cell_type": "code",
   "execution_count": null,
   "id": "4193444d-fe16-4b58-bd29-7c2c6cc401a2",
   "metadata": {},
   "outputs": [],
   "source": [
    "%load sorting.py"
   ]
  },
  {
   "cell_type": "code",
   "execution_count": null,
   "id": "0a4c6348-a975-4f8b-90c5-21f5414dc422",
   "metadata": {},
   "outputs": [],
   "source": [
    "%load sorting_cli.py"
   ]
  },
  {
   "cell_type": "code",
   "execution_count": null,
   "id": "52fb6927-42d2-4295-a82c-1d326b72c474",
   "metadata": {},
   "outputs": [],
   "source": [
    "%load test_sorting.py"
   ]
  },
  {
   "cell_type": "markdown",
   "id": "7bdc70af",
   "metadata": {},
   "source": [
    "## Problem 3\n",
    "\n",
    "> Explore on the Internet what can Python package _**pysort**_ offers Software Developers when writing a program. Describe how to use the existing package and give some programming examples.\n",
    "\n",
    "Pysort is a third-party package pre-loaded with some of the most popular sorting techniques. When dealing with massive datasets, selecting an efficient sorting method can drastically reduce workload. Since data size and type may vary, our approach needs to be flexible and adjust accordingly.\n",
    "\n",
    "- Re-use `sorting.py` for timing a sorting method.\n",
    "- Gather data of sorting techniques available at *pysort*, except a few to save time.\n",
    "- Determine the fastest and slowest sorting method.\n",
    "\n",
    "### Screenshots\n",
    "\n",
    "1. Main interface<br><img src=\"https://github.com/hendraanggrian/IIT-ITM513/raw/assets/assignments/hw5/screenshot3.png\" width=\"480\">"
   ]
  },
  {
   "cell_type": "code",
   "execution_count": null,
   "id": "42eb7733-dd98-46db-9467-26f289874e41",
   "metadata": {},
   "outputs": [],
   "source": [
    "%load pysort_sample.py"
   ]
  },
  {
   "cell_type": "markdown",
   "id": "d8a4bfb9-1916-4c8f-ad70-43ac1f4c4658",
   "metadata": {
    "jp-MarkdownHeadingCollapsed": true
   },
   "source": [
    "## Learning Report\n",
    "\n",
    "> Using Microsoft Word or any other text editor, write a summary report explaining how you completed your assignment and what you learned from completing your assignment.\n",
    "\n",
    "[View report](https://github.com/hendraanggrian/IIT-ITM513/releases/download/hw5/report.pdf) /\n",
    "[source](report.md)"
   ]
  }
 ],
 "metadata": {
  "kernelspec": {
   "display_name": "Python 3 (ipykernel)",
   "language": "python",
   "name": "python3"
  },
  "language_info": {
   "codemirror_mode": {
    "name": "ipython",
    "version": 3
   },
   "file_extension": ".py",
   "mimetype": "text/x-python",
   "name": "python",
   "nbconvert_exporter": "python",
   "pygments_lexer": "ipython3",
   "version": "3.11.5"
  }
 },
 "nbformat": 4,
 "nbformat_minor": 5
}
